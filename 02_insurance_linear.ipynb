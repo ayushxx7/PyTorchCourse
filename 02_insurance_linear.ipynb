{
  "nbformat": 4,
  "nbformat_minor": 0,
  "metadata": {
    "kernelspec": {
      "display_name": "Python 3",
      "language": "python",
      "name": "python3"
    },
    "language_info": {
      "codemirror_mode": {
        "name": "ipython",
        "version": 3
      },
      "file_extension": ".py",
      "mimetype": "text/x-python",
      "name": "python",
      "nbconvert_exporter": "python",
      "pygments_lexer": "ipython3",
      "version": "3.8.5"
    },
    "colab": {
      "name": "02-insurance-linear.ipynb",
      "provenance": [],
      "include_colab_link": true
    }
  },
  "cells": [
    {
      "cell_type": "markdown",
      "metadata": {
        "id": "view-in-github",
        "colab_type": "text"
      },
      "source": [
        "<a href=\"https://colab.research.google.com/github/ayushxx7/PyTorchCourse/blob/master/02_insurance_linear.ipynb\" target=\"_parent\"><img src=\"https://colab.research.google.com/assets/colab-badge.svg\" alt=\"Open In Colab\"/></a>"
      ]
    },
    {
      "cell_type": "code",
      "metadata": {
        "id": "Cfw78XlJV5q6"
      },
      "source": [
        "# Jovian Commit Essentials\n",
        "# Please retain and execute this cell without modifying the contents for `jovian.commit` to work\n",
        "!pip install jovian --upgrade -q\n",
        "import jovian\n",
        "jovian.utils.colab.set_colab_file_id('13vrlKp7WamOb-YOus_sPGRWX-tINRxe9')"
      ],
      "execution_count": 170,
      "outputs": []
    },
    {
      "cell_type": "markdown",
      "metadata": {
        "_cell_guid": "b1076dfc-b9ad-4769-8c92-a6c4dae69d19",
        "_uuid": "8f2839f25d086af736a60e9eeb907d3b93b6e0e5",
        "id": "sB3eVbj8V5rA"
      },
      "source": [
        "# Insurance cost prediction using linear regression\n",
        "\n",
        "Make a submisson here: https://jovian.ai/learn/deep-learning-with-pytorch-zero-to-gans/assignment/assignment-2-train-your-first-model\n",
        "\n",
        "In this assignment we're going to use information like a person's age, sex, BMI, no. of children and smoking habit to predict the price of yearly medical bills. This kind of model is useful for insurance companies to determine the yearly insurance premium for a person. The dataset for this problem is taken from [Kaggle](https://www.kaggle.com/mirichoi0218/insurance).\n",
        "\n",
        "\n",
        "We will create a model with the following steps:\n",
        "1. Download and explore the dataset\n",
        "2. Prepare the dataset for training\n",
        "3. Create a linear regression model\n",
        "4. Train the model to fit the data\n",
        "5. Make predictions using the trained model\n",
        "\n",
        "\n",
        "This assignment builds upon the concepts from the first 2 lessons. It will help to review these Jupyter notebooks:\n",
        "- PyTorch basics: https://jovian.ai/aakashns/01-pytorch-basics\n",
        "- Linear Regression: https://jovian.ai/aakashns/02-linear-regression\n",
        "- Logistic Regression: https://jovian.ai/aakashns/03-logistic-regression\n",
        "- Linear regression (minimal): https://jovian.ai/aakashns/housing-linear-minimal\n",
        "- Logistic regression (minimal): https://jovian.ai/aakashns/mnist-logistic-minimal\n",
        "\n",
        "As you go through this notebook, you will find a **???** in certain places. Your job is to replace the **???** with appropriate code or values, to ensure that the notebook runs properly end-to-end . In some cases, you'll be required to choose some hyperparameters (learning rate, batch size etc.). Try to experiment with the hypeparameters to get the lowest loss.\n"
      ]
    },
    {
      "cell_type": "code",
      "metadata": {
        "id": "JypuOptnV5rB"
      },
      "source": [
        "# Uncomment and run the appropriate command for your operating system, if required\n",
        "\n",
        "# Linux / Binder\n",
        "# !pip install numpy matplotlib pandas torch==1.7.0+cpu torchvision==0.8.1+cpu torchaudio==0.7.0 -f https://download.pytorch.org/whl/torch_stable.html\n",
        "\n",
        "# Windows\n",
        "# !pip install numpy matplotlib pandas torch==1.7.0+cpu torchvision==0.8.1+cpu torchaudio==0.7.0 -f https://download.pytorch.org/whl/torch_stable.html\n",
        "\n",
        "# MacOS\n",
        "# !pip install numpy matplotlib pandas torch torchvision torchaudio"
      ],
      "execution_count": 171,
      "outputs": []
    },
    {
      "cell_type": "code",
      "metadata": {
        "id": "oDnV_z9kV5rB"
      },
      "source": [
        "import torch\n",
        "import jovian\n",
        "import torchvision\n",
        "import torch.nn as nn\n",
        "import pandas as pd\n",
        "import matplotlib.pyplot as plt\n",
        "import seaborn as sns\n",
        "import torch.nn.functional as F\n",
        "from torchvision.datasets.utils import download_url\n",
        "from torch.utils.data import DataLoader, TensorDataset, random_split"
      ],
      "execution_count": 172,
      "outputs": []
    },
    {
      "cell_type": "code",
      "metadata": {
        "id": "4ZtvYokIV5rC"
      },
      "source": [
        "project_name='02-insurance-linear-regression' # will be used by jovian.commit"
      ],
      "execution_count": 173,
      "outputs": []
    },
    {
      "cell_type": "markdown",
      "metadata": {
        "id": "qQ6GhkIqV5rC"
      },
      "source": [
        "## Step 1: Download and explore the data\n",
        "\n",
        "Let us begin by downloading the data. We'll use the `download_url` function from PyTorch to get the data as a CSV (comma-separated values) file. "
      ]
    },
    {
      "cell_type": "code",
      "metadata": {
        "_cell_guid": "79c7e3d0-c299-4dcb-8224-4455121ee9b0",
        "_uuid": "d629ff2d2480ee46fbb7e2d37f6b5fab8052498a",
        "colab": {
          "base_uri": "https://localhost:8080/"
        },
        "id": "Bd7K3Lz4V5rC",
        "outputId": "608bbfd4-4a3a-4ee7-9bb4-e76d50699687"
      },
      "source": [
        "DATASET_URL = \"https://hub.jovian.ml/wp-content/uploads/2020/05/insurance.csv\"\n",
        "DATA_FILENAME = \"insurance.csv\"\n",
        "download_url(DATASET_URL, '.')"
      ],
      "execution_count": 174,
      "outputs": [
        {
          "output_type": "stream",
          "text": [
            "Using downloaded and verified file: ./insurance.csv\n"
          ],
          "name": "stdout"
        }
      ]
    },
    {
      "cell_type": "markdown",
      "metadata": {
        "id": "HQqbotvJV5rD"
      },
      "source": [
        "To load the dataset into memory, we'll use the `read_csv` function from the `pandas` library. The data will be loaded as a Pandas dataframe. See this short tutorial to learn more: https://data36.com/pandas-tutorial-1-basics-reading-data-files-dataframes-data-selection/"
      ]
    },
    {
      "cell_type": "code",
      "metadata": {
        "colab": {
          "base_uri": "https://localhost:8080/",
          "height": 204
        },
        "id": "4RJerQEyV5rD",
        "outputId": "6d9b385f-4a21-480f-d98e-03b5af76d350"
      },
      "source": [
        "dataframe_raw = pd.read_csv(DATA_FILENAME)\n",
        "dataframe_raw.head()"
      ],
      "execution_count": 175,
      "outputs": [
        {
          "output_type": "execute_result",
          "data": {
            "text/html": [
              "<div>\n",
              "<style scoped>\n",
              "    .dataframe tbody tr th:only-of-type {\n",
              "        vertical-align: middle;\n",
              "    }\n",
              "\n",
              "    .dataframe tbody tr th {\n",
              "        vertical-align: top;\n",
              "    }\n",
              "\n",
              "    .dataframe thead th {\n",
              "        text-align: right;\n",
              "    }\n",
              "</style>\n",
              "<table border=\"1\" class=\"dataframe\">\n",
              "  <thead>\n",
              "    <tr style=\"text-align: right;\">\n",
              "      <th></th>\n",
              "      <th>age</th>\n",
              "      <th>sex</th>\n",
              "      <th>bmi</th>\n",
              "      <th>children</th>\n",
              "      <th>smoker</th>\n",
              "      <th>region</th>\n",
              "      <th>charges</th>\n",
              "    </tr>\n",
              "  </thead>\n",
              "  <tbody>\n",
              "    <tr>\n",
              "      <th>0</th>\n",
              "      <td>19</td>\n",
              "      <td>female</td>\n",
              "      <td>27.900</td>\n",
              "      <td>0</td>\n",
              "      <td>yes</td>\n",
              "      <td>southwest</td>\n",
              "      <td>16884.92400</td>\n",
              "    </tr>\n",
              "    <tr>\n",
              "      <th>1</th>\n",
              "      <td>18</td>\n",
              "      <td>male</td>\n",
              "      <td>33.770</td>\n",
              "      <td>1</td>\n",
              "      <td>no</td>\n",
              "      <td>southeast</td>\n",
              "      <td>1725.55230</td>\n",
              "    </tr>\n",
              "    <tr>\n",
              "      <th>2</th>\n",
              "      <td>28</td>\n",
              "      <td>male</td>\n",
              "      <td>33.000</td>\n",
              "      <td>3</td>\n",
              "      <td>no</td>\n",
              "      <td>southeast</td>\n",
              "      <td>4449.46200</td>\n",
              "    </tr>\n",
              "    <tr>\n",
              "      <th>3</th>\n",
              "      <td>33</td>\n",
              "      <td>male</td>\n",
              "      <td>22.705</td>\n",
              "      <td>0</td>\n",
              "      <td>no</td>\n",
              "      <td>northwest</td>\n",
              "      <td>21984.47061</td>\n",
              "    </tr>\n",
              "    <tr>\n",
              "      <th>4</th>\n",
              "      <td>32</td>\n",
              "      <td>male</td>\n",
              "      <td>28.880</td>\n",
              "      <td>0</td>\n",
              "      <td>no</td>\n",
              "      <td>northwest</td>\n",
              "      <td>3866.85520</td>\n",
              "    </tr>\n",
              "  </tbody>\n",
              "</table>\n",
              "</div>"
            ],
            "text/plain": [
              "   age     sex     bmi  children smoker     region      charges\n",
              "0   19  female  27.900         0    yes  southwest  16884.92400\n",
              "1   18    male  33.770         1     no  southeast   1725.55230\n",
              "2   28    male  33.000         3     no  southeast   4449.46200\n",
              "3   33    male  22.705         0     no  northwest  21984.47061\n",
              "4   32    male  28.880         0     no  northwest   3866.85520"
            ]
          },
          "metadata": {
            "tags": []
          },
          "execution_count": 175
        }
      ]
    },
    {
      "cell_type": "markdown",
      "metadata": {
        "id": "2oRecAquV5rE"
      },
      "source": [
        "We're going to do a slight customization of the data, so that you every participant receives a slightly different version of the dataset. Fill in your name below as a string (enter at least 5 characters)"
      ]
    },
    {
      "cell_type": "code",
      "metadata": {
        "id": "1JsNKhbJV5rE"
      },
      "source": [
        "your_name = \"ayush\" # at least 5 characters"
      ],
      "execution_count": 176,
      "outputs": []
    },
    {
      "cell_type": "markdown",
      "metadata": {
        "id": "Z_nkj0EpV5rE"
      },
      "source": [
        "The `customize_dataset` function will customize the dataset slightly using your name as a source of random numbers."
      ]
    },
    {
      "cell_type": "code",
      "metadata": {
        "id": "_F3oS6hQV5rE"
      },
      "source": [
        "def customize_dataset(dataframe_raw, rand_str):\n",
        "    dataframe = dataframe_raw.copy(deep=True)\n",
        "    # drop some rows\n",
        "    dataframe = dataframe.sample(int(0.95*len(dataframe)), random_state=int(ord(rand_str[0])))\n",
        "    # scale input\n",
        "    dataframe.bmi = dataframe.bmi * ord(rand_str[1])/100.\n",
        "    # scale target\n",
        "    dataframe.charges = dataframe.charges * ord(rand_str[2])/100.\n",
        "    # drop column\n",
        "    if ord(rand_str[3]) % 2 == 1:\n",
        "        dataframe = dataframe.drop(['region'], axis=1)\n",
        "    return dataframe"
      ],
      "execution_count": 177,
      "outputs": []
    },
    {
      "cell_type": "code",
      "metadata": {
        "colab": {
          "base_uri": "https://localhost:8080/",
          "height": 204
        },
        "id": "s1G_4TZ4V5rE",
        "outputId": "a356dbc7-ad0b-4f53-8a7d-c235bc8fe06f"
      },
      "source": [
        "dataframe = customize_dataset(dataframe_raw, your_name)\n",
        "dataframe.head()"
      ],
      "execution_count": 178,
      "outputs": [
        {
          "output_type": "execute_result",
          "data": {
            "text/html": [
              "<div>\n",
              "<style scoped>\n",
              "    .dataframe tbody tr th:only-of-type {\n",
              "        vertical-align: middle;\n",
              "    }\n",
              "\n",
              "    .dataframe tbody tr th {\n",
              "        vertical-align: top;\n",
              "    }\n",
              "\n",
              "    .dataframe thead th {\n",
              "        text-align: right;\n",
              "    }\n",
              "</style>\n",
              "<table border=\"1\" class=\"dataframe\">\n",
              "  <thead>\n",
              "    <tr style=\"text-align: right;\">\n",
              "      <th></th>\n",
              "      <th>age</th>\n",
              "      <th>sex</th>\n",
              "      <th>bmi</th>\n",
              "      <th>children</th>\n",
              "      <th>smoker</th>\n",
              "      <th>charges</th>\n",
              "    </tr>\n",
              "  </thead>\n",
              "  <tbody>\n",
              "    <tr>\n",
              "      <th>27</th>\n",
              "      <td>55</td>\n",
              "      <td>female</td>\n",
              "      <td>39.65775</td>\n",
              "      <td>2</td>\n",
              "      <td>no</td>\n",
              "      <td>14354.299732</td>\n",
              "    </tr>\n",
              "    <tr>\n",
              "      <th>997</th>\n",
              "      <td>63</td>\n",
              "      <td>female</td>\n",
              "      <td>44.58850</td>\n",
              "      <td>0</td>\n",
              "      <td>no</td>\n",
              "      <td>16248.923145</td>\n",
              "    </tr>\n",
              "    <tr>\n",
              "      <th>162</th>\n",
              "      <td>54</td>\n",
              "      <td>male</td>\n",
              "      <td>47.91600</td>\n",
              "      <td>1</td>\n",
              "      <td>no</td>\n",
              "      <td>12227.145840</td>\n",
              "    </tr>\n",
              "    <tr>\n",
              "      <th>824</th>\n",
              "      <td>60</td>\n",
              "      <td>male</td>\n",
              "      <td>29.42720</td>\n",
              "      <td>0</td>\n",
              "      <td>no</td>\n",
              "      <td>14652.617616</td>\n",
              "    </tr>\n",
              "    <tr>\n",
              "      <th>392</th>\n",
              "      <td>48</td>\n",
              "      <td>male</td>\n",
              "      <td>38.04845</td>\n",
              "      <td>1</td>\n",
              "      <td>no</td>\n",
              "      <td>10487.950843</td>\n",
              "    </tr>\n",
              "  </tbody>\n",
              "</table>\n",
              "</div>"
            ],
            "text/plain": [
              "     age     sex       bmi  children smoker       charges\n",
              "27    55  female  39.65775         2     no  14354.299732\n",
              "997   63  female  44.58850         0     no  16248.923145\n",
              "162   54    male  47.91600         1     no  12227.145840\n",
              "824   60    male  29.42720         0     no  14652.617616\n",
              "392   48    male  38.04845         1     no  10487.950843"
            ]
          },
          "metadata": {
            "tags": []
          },
          "execution_count": 178
        }
      ]
    },
    {
      "cell_type": "markdown",
      "metadata": {
        "id": "I_uTm6BmV5rF"
      },
      "source": [
        "Let us answer some basic questions about the dataset. \n",
        "\n",
        "\n",
        "**Q: How many rows does the dataset have?**"
      ]
    },
    {
      "cell_type": "code",
      "metadata": {
        "colab": {
          "base_uri": "https://localhost:8080/"
        },
        "id": "FfgQu5TnV5rF",
        "outputId": "62a321c1-afec-421f-bf54-6f39e946be94"
      },
      "source": [
        "num_rows = dataframe.shape[0]\n",
        "print(num_rows)"
      ],
      "execution_count": 179,
      "outputs": [
        {
          "output_type": "stream",
          "text": [
            "1271\n"
          ],
          "name": "stdout"
        }
      ]
    },
    {
      "cell_type": "markdown",
      "metadata": {
        "id": "3B4uekAcV5rF"
      },
      "source": [
        "**Q: How many columns doe the dataset have**"
      ]
    },
    {
      "cell_type": "code",
      "metadata": {
        "colab": {
          "base_uri": "https://localhost:8080/"
        },
        "id": "h-Zb6cNnV5rF",
        "outputId": "9c77d761-a177-4b21-aac0-72f98c7feaea"
      },
      "source": [
        "num_cols = dataframe.shape[1]\n",
        "print(num_cols)"
      ],
      "execution_count": 180,
      "outputs": [
        {
          "output_type": "stream",
          "text": [
            "6\n"
          ],
          "name": "stdout"
        }
      ]
    },
    {
      "cell_type": "markdown",
      "metadata": {
        "id": "M7FVzOqOV5rF"
      },
      "source": [
        "**Q: What are the column titles of the input variables?**"
      ]
    },
    {
      "cell_type": "code",
      "metadata": {
        "id": "tVJi9ZbHV5rG"
      },
      "source": [
        "input_cols = ['age', 'sex', 'bmi', 'children', 'smoker']"
      ],
      "execution_count": 181,
      "outputs": []
    },
    {
      "cell_type": "markdown",
      "metadata": {
        "id": "3s6e9PP4V5rG"
      },
      "source": [
        "**Q: Which of the input columns are non-numeric or categorial variables ?**\n",
        "\n",
        "Hint: `sex` is one of them. List the columns that are not numbers."
      ]
    },
    {
      "cell_type": "code",
      "metadata": {
        "id": "Nk_RRXDKV5rG"
      },
      "source": [
        "categorical_cols = ['sex', 'smoker']"
      ],
      "execution_count": 182,
      "outputs": []
    },
    {
      "cell_type": "markdown",
      "metadata": {
        "id": "toMbMHEdV5rG"
      },
      "source": [
        "**Q: What are the column titles of output/target variable(s)?**"
      ]
    },
    {
      "cell_type": "code",
      "metadata": {
        "id": "oaesnm7VV5rG"
      },
      "source": [
        "output_cols = ['charges']"
      ],
      "execution_count": 183,
      "outputs": []
    },
    {
      "cell_type": "markdown",
      "metadata": {
        "id": "qeUNKCNUV5rG"
      },
      "source": [
        "**Q: (Optional) What is the minimum, maximum and average value of the `charges` column? Can you show the distribution of values in a graph?**\n",
        "Use this data visualization cheatsheet for referece: https://jovian.ml/aakashns/dataviz-cheatsheet"
      ]
    },
    {
      "cell_type": "code",
      "metadata": {
        "colab": {
          "base_uri": "https://localhost:8080/",
          "height": 390
        },
        "id": "jbuq6fClV5rH",
        "outputId": "f803ae6e-2693-46dd-873d-9309af0624e6"
      },
      "source": [
        "minimum = dataframe.charges.min()\r\n",
        "maximum = dataframe.charges.max()\r\n",
        "average = dataframe.charges.mean()\r\n",
        "print(f\"The minimum, maximum & average value of charges is {minimum}, {maximum} & {average} respectively.\")\r\n",
        "\r\n",
        "g = sns.displot(dataframe.charges)\r\n",
        "g.fig.suptitle('Histogram')\r\n",
        "plt.show()"
      ],
      "execution_count": 184,
      "outputs": [
        {
          "output_type": "stream",
          "text": [
            "The minimum, maximum & average value of charges is 1312.592463, 74611.4007717 & 15577.608507718964 respectively.\n"
          ],
          "name": "stdout"
        },
        {
          "output_type": "display_data",
          "data": {
            "image/png": "[encoded data removed]",
            "text/plain": [
              "<Figure size 360x360 with 1 Axes>"
            ]
          },
          "metadata": {
            "tags": [],
            "needs_background": "light"
          }
        }
      ]
    },
    {
      "cell_type": "markdown",
      "metadata": {
        "id": "ET3zFOkdV5rH"
      },
      "source": [
        "Remember to commit your notebook to Jovian after every step, so that you don't lose your work."
      ]
    },
    {
      "cell_type": "code",
      "metadata": {
        "id": "OLUDhoHlV5rH"
      },
      "source": [
        "!pip install jovian --upgrade -q"
      ],
      "execution_count": 185,
      "outputs": []
    },
    {
      "cell_type": "code",
      "metadata": {
        "id": "o1rxGjkbV5rH"
      },
      "source": [
        "import jovian"
      ],
      "execution_count": 186,
      "outputs": []
    },
    {
      "cell_type": "code",
      "metadata": {
        "colab": {
          "base_uri": "https://localhost:8080/",
          "height": 103
        },
        "id": "NruHwlTlV5rH",
        "outputId": "5c01dc61-0da7-445b-808a-30180cfec0e6"
      },
      "source": [
        "jovian.commit(project=project_name)"
      ],
      "execution_count": 187,
      "outputs": [
        {
          "output_type": "stream",
          "text": [
            "[jovian] Detected Colab notebook...\u001b[0m\n",
            "[jovian] Uploading colab notebook to Jovian...\u001b[0m\n",
            "[jovian] Capturing environment..\u001b[0m\n",
            "[jovian] Committed successfully! https://jovian.ai/ayushxx7/02-insurance-linear-regression\u001b[0m\n"
          ],
          "name": "stdout"
        },
        {
          "output_type": "execute_result",
          "data": {
            "application/vnd.google.colaboratory.intrinsic+json": {
              "type": "string"
            },
            "text/plain": [
              "'https://jovian.ai/ayushxx7/02-insurance-linear-regression'"
            ]
          },
          "metadata": {
            "tags": []
          },
          "execution_count": 187
        }
      ]
    },
    {
      "cell_type": "markdown",
      "metadata": {
        "id": "Ge2qDyZWV5rH"
      },
      "source": [
        "## Step 2: Prepare the dataset for training\n",
        "\n",
        "We need to convert the data from the Pandas dataframe into a PyTorch tensors for training. To do this, the first step is to convert it numpy arrays. If you've filled out `input_cols`, `categorial_cols` and `output_cols` correctly, this following function will perform the conversion to numpy arrays."
      ]
    },
    {
      "cell_type": "code",
      "metadata": {
        "id": "tujb9icbV5rI"
      },
      "source": [
        "def dataframe_to_arrays(dataframe):\n",
        "    # Make a copy of the original dataframe\n",
        "    dataframe1 = dataframe.copy(deep=True)\n",
        "    # Convert non-numeric categorical columns to numbers\n",
        "    for col in categorical_cols:\n",
        "        dataframe1[col] = dataframe1[col].astype('category').cat.codes\n",
        "    # Extract input & outupts as numpy arrays\n",
        "    inputs_array = dataframe1[input_cols].to_numpy()\n",
        "    targets_array = dataframe1[output_cols].to_numpy()\n",
        "    return inputs_array, targets_array"
      ],
      "execution_count": 188,
      "outputs": []
    },
    {
      "cell_type": "markdown",
      "metadata": {
        "id": "sTGd2J6nV5rI"
      },
      "source": [
        "Read through the [Pandas documentation](https://pandas.pydata.org/pandas-docs/stable/user_guide/categorical.html) to understand how we're converting categorical variables into numbers."
      ]
    },
    {
      "cell_type": "code",
      "metadata": {
        "colab": {
          "base_uri": "https://localhost:8080/"
        },
        "id": "TqIFhNqvV5rI",
        "outputId": "fea9a543-7dad-4eec-9fd8-a6091c989285"
      },
      "source": [
        "inputs_array, targets_array = dataframe_to_arrays(dataframe)\n",
        "inputs_array, targets_array"
      ],
      "execution_count": 189,
      "outputs": [
        {
          "output_type": "execute_result",
          "data": {
            "text/plain": [
              "(array([[55.     ,  0.     , 39.65775,  2.     ,  0.     ],\n",
              "        [63.     ,  0.     , 44.5885 ,  0.     ,  0.     ],\n",
              "        [54.     ,  1.     , 47.916  ,  1.     ,  0.     ],\n",
              "        ...,\n",
              "        [58.     ,  1.     , 38.7321 ,  1.     ,  0.     ],\n",
              "        [32.     ,  0.     , 53.5062 ,  0.     ,  0.     ],\n",
              "        [35.     ,  1.     , 21.6106 ,  1.     ,  0.     ]]),\n",
              " array([[14354.2997325],\n",
              "        [16248.923145 ],\n",
              "        [12227.14584  ],\n",
              "        ...,\n",
              "        [13977.552303 ],\n",
              "        [ 4673.188026 ],\n",
              "        [ 5986.305468 ]]))"
            ]
          },
          "metadata": {
            "tags": []
          },
          "execution_count": 189
        }
      ]
    },
    {
      "cell_type": "markdown",
      "metadata": {
        "id": "2ZqA2VMnV5rJ"
      },
      "source": [
        "**Q: Convert the numpy arrays `inputs_array` and `targets_array` into PyTorch tensors. Make sure that the data type is `torch.float32`.**"
      ]
    },
    {
      "cell_type": "code",
      "metadata": {
        "id": "VESZsOnuV5rJ"
      },
      "source": [
        "# inputs = torch.from_numpy(inputs_array)\n",
        "# targets = torch.from_numpy(targets_array)\n",
        "# The PyTorch Linear model crashed on dtype=float64\n",
        "inputs = torch.tensor(inputs_array, dtype=torch.float32)\n",
        "targets = torch.tensor(inputs_array, dtype=torch.float32)"
      ],
      "execution_count": 190,
      "outputs": []
    },
    {
      "cell_type": "code",
      "metadata": {
        "colab": {
          "base_uri": "https://localhost:8080/"
        },
        "id": "1QK4kLjnV5rJ",
        "outputId": "616a9204-c817-423c-b051-5ba3b76bad6a"
      },
      "source": [
        "inputs.dtype, targets.dtype"
      ],
      "execution_count": 191,
      "outputs": [
        {
          "output_type": "execute_result",
          "data": {
            "text/plain": [
              "(torch.float32, torch.float32)"
            ]
          },
          "metadata": {
            "tags": []
          },
          "execution_count": 191
        }
      ]
    },
    {
      "cell_type": "code",
      "metadata": {
        "colab": {
          "base_uri": "https://localhost:8080/"
        },
        "id": "HMZRcumnVUZq",
        "outputId": "f49970b2-76d4-494a-a419-608eb133fb90"
      },
      "source": [
        "print(inputs[0:5])\r\n",
        "print(targets[0:5])"
      ],
      "execution_count": 192,
      "outputs": [
        {
          "output_type": "stream",
          "text": [
            "tensor([[55.0000,  0.0000, 39.6577,  2.0000,  0.0000],\n",
            "        [63.0000,  0.0000, 44.5885,  0.0000,  0.0000],\n",
            "        [54.0000,  1.0000, 47.9160,  1.0000,  0.0000],\n",
            "        [60.0000,  1.0000, 29.4272,  0.0000,  0.0000],\n",
            "        [48.0000,  1.0000, 38.0485,  1.0000,  0.0000]])\n",
            "tensor([[55.0000,  0.0000, 39.6577,  2.0000,  0.0000],\n",
            "        [63.0000,  0.0000, 44.5885,  0.0000,  0.0000],\n",
            "        [54.0000,  1.0000, 47.9160,  1.0000,  0.0000],\n",
            "        [60.0000,  1.0000, 29.4272,  0.0000,  0.0000],\n",
            "        [48.0000,  1.0000, 38.0485,  1.0000,  0.0000]])\n"
          ],
          "name": "stdout"
        }
      ]
    },
    {
      "cell_type": "markdown",
      "metadata": {
        "id": "3AOodConV5rJ"
      },
      "source": [
        "Next, we need to create PyTorch datasets & data loaders for training & validation. We'll start by creating a `TensorDataset`."
      ]
    },
    {
      "cell_type": "code",
      "metadata": {
        "id": "y73LLHxcV5rJ"
      },
      "source": [
        "dataset = TensorDataset(inputs, targets)"
      ],
      "execution_count": 193,
      "outputs": []
    },
    {
      "cell_type": "markdown",
      "metadata": {
        "id": "vupLrF4fV5rJ"
      },
      "source": [
        "**Q: Pick a number between `0.1` and `0.2` to determine the fraction of data that will be used for creating the validation set. Then use `random_split` to create training & validation datasets.**"
      ]
    },
    {
      "cell_type": "code",
      "metadata": {
        "id": "yTF66_BgV5rJ"
      },
      "source": [
        "val_percent = 0.2 # between 0.1 and 0.2\n",
        "val_size = int(num_rows * val_percent)\n",
        "train_size = num_rows - val_size\n",
        "\n",
        "\n",
        "train_ds, val_ds = torch.utils.data.random_split(dataset, [train_size, val_size]) # Use the random_split function to split dataset into 2 parts of the desired length"
      ],
      "execution_count": 194,
      "outputs": []
    },
    {
      "cell_type": "code",
      "metadata": {
        "colab": {
          "base_uri": "https://localhost:8080/"
        },
        "id": "jpas_ULEq0cf",
        "outputId": "7601c096-a4ec-41f8-9195-4a5af07849ad"
      },
      "source": [
        "print(len(train_ds), len(val_ds))\r\n",
        "print(train_size, val_size)\r\n",
        "print(len(dataset))\r\n",
        "print(1017+254)"
      ],
      "execution_count": 195,
      "outputs": [
        {
          "output_type": "stream",
          "text": [
            "1017 254\n",
            "1017 254\n",
            "1271\n",
            "1271\n"
          ],
          "name": "stdout"
        }
      ]
    },
    {
      "cell_type": "markdown",
      "metadata": {
        "id": "JHhI7-6VV5rK"
      },
      "source": [
        "Finally, we can create data loaders for training & validation.\n",
        "\n",
        "**Q: Pick a batch size for the data loader.**"
      ]
    },
    {
      "cell_type": "code",
      "metadata": {
        "id": "AUx5qLTPV5rK"
      },
      "source": [
        "batch_size = 100"
      ],
      "execution_count": 196,
      "outputs": []
    },
    {
      "cell_type": "code",
      "metadata": {
        "id": "dO-yZ8PrV5rK"
      },
      "source": [
        "train_loader = DataLoader(train_ds, batch_size, shuffle=True)\n",
        "val_loader = DataLoader(val_ds, batch_size)"
      ],
      "execution_count": 197,
      "outputs": []
    },
    {
      "cell_type": "markdown",
      "metadata": {
        "id": "4Cno70TEV5rK"
      },
      "source": [
        "Let's look at a batch of data to verify everything is working fine so far."
      ]
    },
    {
      "cell_type": "code",
      "metadata": {
        "colab": {
          "base_uri": "https://localhost:8080/"
        },
        "collapsed": true,
        "id": "_YJhrcglV5rK",
        "outputId": "0d607ffa-a080-417f-ed66-2e876c791a7e"
      },
      "source": [
        "for xb, yb in train_loader:\n",
        "    print(\"inputs:\", xb)\n",
        "    print(\"targets:\", yb)\n",
        "    break"
      ],
      "execution_count": 198,
      "outputs": [
        {
          "output_type": "stream",
          "text": [
            "inputs: tensor([[46.0000,  1.0000, 24.0245,  0.0000,  0.0000],\n",
            "        [48.0000,  1.0000, 37.2438,  3.0000,  0.0000],\n",
            "        [60.0000,  1.0000, 29.4272,  0.0000,  0.0000],\n",
            "        [45.0000,  1.0000, 27.7029,  2.0000,  1.0000],\n",
            "        [46.0000,  0.0000, 36.5420,  2.0000,  0.0000],\n",
            "        [46.0000,  1.0000, 26.9830,  0.0000,  0.0000],\n",
            "        [19.0000,  0.0000, 38.8531,  0.0000,  0.0000],\n",
            "        [38.0000,  1.0000, 20.3461,  2.0000,  0.0000],\n",
            "        [60.0000,  1.0000, 31.1454,  0.0000,  0.0000],\n",
            "        [48.0000,  0.0000, 43.4511,  1.0000,  0.0000],\n",
            "        [27.0000,  1.0000, 34.4850,  0.0000,  1.0000],\n",
            "        [45.0000,  1.0000, 29.4151,  5.0000,  0.0000],\n",
            "        [30.0000,  1.0000, 34.7149,  3.0000,  1.0000],\n",
            "        [24.0000,  0.0000, 33.5412,  0.0000,  0.0000],\n",
            "        [55.0000,  0.0000, 44.8910,  0.0000,  0.0000],\n",
            "        [50.0000,  1.0000, 44.8547,  1.0000,  0.0000],\n",
            "        [60.0000,  0.0000, 39.2645,  0.0000,  1.0000],\n",
            "        [50.0000,  1.0000, 30.6130,  0.0000,  0.0000],\n",
            "        [30.0000,  0.0000, 24.1395,  3.0000,  0.0000],\n",
            "        [55.0000,  1.0000, 39.5307,  1.0000,  0.0000],\n",
            "        [52.0000,  0.0000, 22.1854,  0.0000,  0.0000],\n",
            "        [62.0000,  0.0000, 44.6006,  1.0000,  0.0000],\n",
            "        [48.0000,  0.0000, 32.9907,  1.0000,  0.0000],\n",
            "        [34.0000,  1.0000, 30.5767,  1.0000,  0.0000],\n",
            "        [63.0000,  1.0000, 40.0510,  0.0000,  0.0000],\n",
            "        [32.0000,  1.0000, 56.3013,  2.0000,  0.0000],\n",
            "        [29.0000,  0.0000, 31.4963,  0.0000,  0.0000],\n",
            "        [35.0000,  1.0000, 41.5272,  3.0000,  0.0000],\n",
            "        [38.0000,  0.0000, 33.6804,  2.0000,  0.0000],\n",
            "        [43.0000,  1.0000, 36.4210,  1.0000,  0.0000],\n",
            "        [60.0000,  1.0000, 35.8644,  0.0000,  0.0000],\n",
            "        [44.0000,  0.0000, 46.0526,  0.0000,  1.0000],\n",
            "        [33.0000,  1.0000, 35.5740,  4.0000,  0.0000],\n",
            "        [20.0000,  1.0000, 47.6740,  2.0000,  1.0000],\n",
            "        [55.0000,  0.0000, 35.9370,  2.0000,  0.0000],\n",
            "        [54.0000,  0.0000, 29.7721,  3.0000,  0.0000],\n",
            "        [23.0000,  1.0000, 21.0359,  1.0000,  0.0000],\n",
            "        [57.0000,  1.0000, 41.1521,  0.0000,  0.0000],\n",
            "        [45.0000,  1.0000, 34.7270,  2.0000,  0.0000],\n",
            "        [52.0000,  1.0000, 41.2610,  0.0000,  0.0000],\n",
            "        [33.0000,  0.0000, 48.1822,  1.0000,  0.0000],\n",
            "        [20.0000,  0.0000, 38.6232,  0.0000,  0.0000],\n",
            "        [59.0000,  0.0000, 37.9335,  0.0000,  0.0000],\n",
            "        [59.0000,  0.0000, 33.5412,  3.0000,  0.0000],\n",
            "        [42.0000,  0.0000, 30.6130,  1.0000,  0.0000],\n",
            "        [21.0000,  1.0000, 31.1514,  2.0000,  0.0000],\n",
            "        [30.0000,  0.0000, 27.7029,  1.0000,  0.0000],\n",
            "        [53.0000,  0.0000, 44.6006,  3.0000,  1.0000],\n",
            "        [48.0000,  1.0000, 44.3707,  1.0000,  0.0000],\n",
            "        [28.0000,  0.0000, 45.5202,  1.0000,  0.0000],\n",
            "        [58.0000,  1.0000, 28.1930,  0.0000,  0.0000],\n",
            "        [29.0000,  1.0000, 38.8531,  2.0000,  0.0000],\n",
            "        [23.0000,  1.0000, 38.3933,  3.0000,  1.0000],\n",
            "        [26.0000,  0.0000, 41.3820,  2.0000,  0.0000],\n",
            "        [28.0000,  1.0000, 27.2432,  2.0000,  0.0000],\n",
            "        [24.0000,  1.0000, 40.6923,  4.0000,  0.0000],\n",
            "        [34.0000,  1.0000, 41.3941,  0.0000,  0.0000],\n",
            "        [43.0000,  1.0000, 42.7251,  2.0000,  0.0000],\n",
            "        [18.0000,  1.0000, 36.3363,  1.0000,  0.0000],\n",
            "        [58.0000,  0.0000, 39.8876,  0.0000,  0.0000],\n",
            "        [19.0000,  1.0000, 33.3960,  0.0000,  0.0000],\n",
            "        [18.0000,  0.0000, 34.1401,  0.0000,  0.0000],\n",
            "        [47.0000,  0.0000, 35.5377,  1.0000,  0.0000],\n",
            "        [47.0000,  1.0000, 30.8066,  2.0000,  0.0000],\n",
            "        [23.0000,  0.0000, 42.3016,  3.0000,  0.0000],\n",
            "        [59.0000,  0.0000, 28.6225,  0.0000,  1.0000],\n",
            "        [28.0000,  1.0000, 44.0440,  1.0000,  1.0000],\n",
            "        [23.0000,  0.0000, 51.7275,  1.0000,  1.0000],\n",
            "        [30.0000,  1.0000, 42.7130,  0.0000,  1.0000],\n",
            "        [48.0000,  1.0000, 43.1063,  4.0000,  0.0000],\n",
            "        [19.0000,  0.0000, 36.3242,  0.0000,  1.0000],\n",
            "        [33.0000,  0.0000, 43.9109,  3.0000,  0.0000],\n",
            "        [40.0000,  0.0000, 35.8160,  0.0000,  0.0000],\n",
            "        [33.0000,  1.0000, 30.0019,  0.0000,  1.0000],\n",
            "        [44.0000,  1.0000, 47.8192,  0.0000,  0.0000],\n",
            "        [42.0000,  0.0000, 35.6708,  2.0000,  0.0000],\n",
            "        [37.0000,  0.0000, 41.2671,  1.0000,  0.0000],\n",
            "        [18.0000,  0.0000, 29.1489,  1.0000,  0.0000],\n",
            "        [19.0000,  0.0000, 29.8870,  0.0000,  0.0000],\n",
            "        [27.0000,  1.0000, 39.4278,  3.0000,  0.0000],\n",
            "        [59.0000,  1.0000, 30.8066,  0.0000,  0.0000],\n",
            "        [36.0000,  0.0000, 32.5308,  0.0000,  0.0000],\n",
            "        [37.0000,  1.0000, 41.2610,  4.0000,  1.0000],\n",
            "        [29.0000,  1.0000, 35.9794,  2.0000,  0.0000],\n",
            "        [49.0000,  0.0000, 38.5990,  5.0000,  0.0000],\n",
            "        [39.0000,  0.0000, 38.6232,  2.0000,  0.0000],\n",
            "        [51.0000,  1.0000, 40.3293,  3.0000,  0.0000],\n",
            "        [38.0000,  0.0000, 23.5648,  2.0000,  0.0000],\n",
            "        [35.0000,  0.0000, 28.3927,  2.0000,  0.0000],\n",
            "        [37.0000,  1.0000, 27.4730,  3.0000,  0.0000],\n",
            "        [51.0000,  0.0000, 45.6533,  1.0000,  0.0000],\n",
            "        [45.0000,  1.0000, 44.1408,  2.0000,  1.0000],\n",
            "        [52.0000,  0.0000, 38.3933,  2.0000,  0.0000],\n",
            "        [30.0000,  0.0000, 37.3890,  3.0000,  0.0000],\n",
            "        [21.0000,  1.0000, 44.6006,  0.0000,  0.0000],\n",
            "        [27.0000,  1.0000, 50.9773,  0.0000,  1.0000],\n",
            "        [59.0000,  1.0000, 35.9370,  2.0000,  0.0000],\n",
            "        [43.0000,  1.0000, 33.6380,  0.0000,  1.0000],\n",
            "        [63.0000,  0.0000, 44.5885,  0.0000,  0.0000],\n",
            "        [54.0000,  1.0000, 41.3941,  2.0000,  1.0000]])\n",
            "targets: tensor([[46.0000,  1.0000, 24.0245,  0.0000,  0.0000],\n",
            "        [48.0000,  1.0000, 37.2438,  3.0000,  0.0000],\n",
            "        [60.0000,  1.0000, 29.4272,  0.0000,  0.0000],\n",
            "        [45.0000,  1.0000, 27.7029,  2.0000,  1.0000],\n",
            "        [46.0000,  0.0000, 36.5420,  2.0000,  0.0000],\n",
            "        [46.0000,  1.0000, 26.9830,  0.0000,  0.0000],\n",
            "        [19.0000,  0.0000, 38.8531,  0.0000,  0.0000],\n",
            "        [38.0000,  1.0000, 20.3461,  2.0000,  0.0000],\n",
            "        [60.0000,  1.0000, 31.1454,  0.0000,  0.0000],\n",
            "        [48.0000,  0.0000, 43.4511,  1.0000,  0.0000],\n",
            "        [27.0000,  1.0000, 34.4850,  0.0000,  1.0000],\n",
            "        [45.0000,  1.0000, 29.4151,  5.0000,  0.0000],\n",
            "        [30.0000,  1.0000, 34.7149,  3.0000,  1.0000],\n",
            "        [24.0000,  0.0000, 33.5412,  0.0000,  0.0000],\n",
            "        [55.0000,  0.0000, 44.8910,  0.0000,  0.0000],\n",
            "        [50.0000,  1.0000, 44.8547,  1.0000,  0.0000],\n",
            "        [60.0000,  0.0000, 39.2645,  0.0000,  1.0000],\n",
            "        [50.0000,  1.0000, 30.6130,  0.0000,  0.0000],\n",
            "        [30.0000,  0.0000, 24.1395,  3.0000,  0.0000],\n",
            "        [55.0000,  1.0000, 39.5307,  1.0000,  0.0000],\n",
            "        [52.0000,  0.0000, 22.1854,  0.0000,  0.0000],\n",
            "        [62.0000,  0.0000, 44.6006,  1.0000,  0.0000],\n",
            "        [48.0000,  0.0000, 32.9907,  1.0000,  0.0000],\n",
            "        [34.0000,  1.0000, 30.5767,  1.0000,  0.0000],\n",
            "        [63.0000,  1.0000, 40.0510,  0.0000,  0.0000],\n",
            "        [32.0000,  1.0000, 56.3013,  2.0000,  0.0000],\n",
            "        [29.0000,  0.0000, 31.4963,  0.0000,  0.0000],\n",
            "        [35.0000,  1.0000, 41.5272,  3.0000,  0.0000],\n",
            "        [38.0000,  0.0000, 33.6804,  2.0000,  0.0000],\n",
            "        [43.0000,  1.0000, 36.4210,  1.0000,  0.0000],\n",
            "        [60.0000,  1.0000, 35.8644,  0.0000,  0.0000],\n",
            "        [44.0000,  0.0000, 46.0526,  0.0000,  1.0000],\n",
            "        [33.0000,  1.0000, 35.5740,  4.0000,  0.0000],\n",
            "        [20.0000,  1.0000, 47.6740,  2.0000,  1.0000],\n",
            "        [55.0000,  0.0000, 35.9370,  2.0000,  0.0000],\n",
            "        [54.0000,  0.0000, 29.7721,  3.0000,  0.0000],\n",
            "        [23.0000,  1.0000, 21.0359,  1.0000,  0.0000],\n",
            "        [57.0000,  1.0000, 41.1521,  0.0000,  0.0000],\n",
            "        [45.0000,  1.0000, 34.7270,  2.0000,  0.0000],\n",
            "        [52.0000,  1.0000, 41.2610,  0.0000,  0.0000],\n",
            "        [33.0000,  0.0000, 48.1822,  1.0000,  0.0000],\n",
            "        [20.0000,  0.0000, 38.6232,  0.0000,  0.0000],\n",
            "        [59.0000,  0.0000, 37.9335,  0.0000,  0.0000],\n",
            "        [59.0000,  0.0000, 33.5412,  3.0000,  0.0000],\n",
            "        [42.0000,  0.0000, 30.6130,  1.0000,  0.0000],\n",
            "        [21.0000,  1.0000, 31.1514,  2.0000,  0.0000],\n",
            "        [30.0000,  0.0000, 27.7029,  1.0000,  0.0000],\n",
            "        [53.0000,  0.0000, 44.6006,  3.0000,  1.0000],\n",
            "        [48.0000,  1.0000, 44.3707,  1.0000,  0.0000],\n",
            "        [28.0000,  0.0000, 45.5202,  1.0000,  0.0000],\n",
            "        [58.0000,  1.0000, 28.1930,  0.0000,  0.0000],\n",
            "        [29.0000,  1.0000, 38.8531,  2.0000,  0.0000],\n",
            "        [23.0000,  1.0000, 38.3933,  3.0000,  1.0000],\n",
            "        [26.0000,  0.0000, 41.3820,  2.0000,  0.0000],\n",
            "        [28.0000,  1.0000, 27.2432,  2.0000,  0.0000],\n",
            "        [24.0000,  1.0000, 40.6923,  4.0000,  0.0000],\n",
            "        [34.0000,  1.0000, 41.3941,  0.0000,  0.0000],\n",
            "        [43.0000,  1.0000, 42.7251,  2.0000,  0.0000],\n",
            "        [18.0000,  1.0000, 36.3363,  1.0000,  0.0000],\n",
            "        [58.0000,  0.0000, 39.8876,  0.0000,  0.0000],\n",
            "        [19.0000,  1.0000, 33.3960,  0.0000,  0.0000],\n",
            "        [18.0000,  0.0000, 34.1401,  0.0000,  0.0000],\n",
            "        [47.0000,  0.0000, 35.5377,  1.0000,  0.0000],\n",
            "        [47.0000,  1.0000, 30.8066,  2.0000,  0.0000],\n",
            "        [23.0000,  0.0000, 42.3016,  3.0000,  0.0000],\n",
            "        [59.0000,  0.0000, 28.6225,  0.0000,  1.0000],\n",
            "        [28.0000,  1.0000, 44.0440,  1.0000,  1.0000],\n",
            "        [23.0000,  0.0000, 51.7275,  1.0000,  1.0000],\n",
            "        [30.0000,  1.0000, 42.7130,  0.0000,  1.0000],\n",
            "        [48.0000,  1.0000, 43.1063,  4.0000,  0.0000],\n",
            "        [19.0000,  0.0000, 36.3242,  0.0000,  1.0000],\n",
            "        [33.0000,  0.0000, 43.9109,  3.0000,  0.0000],\n",
            "        [40.0000,  0.0000, 35.8160,  0.0000,  0.0000],\n",
            "        [33.0000,  1.0000, 30.0019,  0.0000,  1.0000],\n",
            "        [44.0000,  1.0000, 47.8192,  0.0000,  0.0000],\n",
            "        [42.0000,  0.0000, 35.6708,  2.0000,  0.0000],\n",
            "        [37.0000,  0.0000, 41.2671,  1.0000,  0.0000],\n",
            "        [18.0000,  0.0000, 29.1489,  1.0000,  0.0000],\n",
            "        [19.0000,  0.0000, 29.8870,  0.0000,  0.0000],\n",
            "        [27.0000,  1.0000, 39.4278,  3.0000,  0.0000],\n",
            "        [59.0000,  1.0000, 30.8066,  0.0000,  0.0000],\n",
            "        [36.0000,  0.0000, 32.5308,  0.0000,  0.0000],\n",
            "        [37.0000,  1.0000, 41.2610,  4.0000,  1.0000],\n",
            "        [29.0000,  1.0000, 35.9794,  2.0000,  0.0000],\n",
            "        [49.0000,  0.0000, 38.5990,  5.0000,  0.0000],\n",
            "        [39.0000,  0.0000, 38.6232,  2.0000,  0.0000],\n",
            "        [51.0000,  1.0000, 40.3293,  3.0000,  0.0000],\n",
            "        [38.0000,  0.0000, 23.5648,  2.0000,  0.0000],\n",
            "        [35.0000,  0.0000, 28.3927,  2.0000,  0.0000],\n",
            "        [37.0000,  1.0000, 27.4730,  3.0000,  0.0000],\n",
            "        [51.0000,  0.0000, 45.6533,  1.0000,  0.0000],\n",
            "        [45.0000,  1.0000, 44.1408,  2.0000,  1.0000],\n",
            "        [52.0000,  0.0000, 38.3933,  2.0000,  0.0000],\n",
            "        [30.0000,  0.0000, 37.3890,  3.0000,  0.0000],\n",
            "        [21.0000,  1.0000, 44.6006,  0.0000,  0.0000],\n",
            "        [27.0000,  1.0000, 50.9773,  0.0000,  1.0000],\n",
            "        [59.0000,  1.0000, 35.9370,  2.0000,  0.0000],\n",
            "        [43.0000,  1.0000, 33.6380,  0.0000,  1.0000],\n",
            "        [63.0000,  0.0000, 44.5885,  0.0000,  0.0000],\n",
            "        [54.0000,  1.0000, 41.3941,  2.0000,  1.0000]])\n"
          ],
          "name": "stdout"
        }
      ]
    },
    {
      "cell_type": "markdown",
      "metadata": {
        "id": "mNx6Pz33V5rK"
      },
      "source": [
        "Let's save our work by committing to Jovian."
      ]
    },
    {
      "cell_type": "code",
      "metadata": {
        "colab": {
          "base_uri": "https://localhost:8080/",
          "height": 86
        },
        "id": "QFKMrAzdV5rL",
        "outputId": "20ec1e93-5398-4628-be7f-b0ae7f6a34d9"
      },
      "source": [
        "jovian.commit(project=project_name, environment=None)"
      ],
      "execution_count": 199,
      "outputs": [
        {
          "output_type": "stream",
          "text": [
            "[jovian] Detected Colab notebook...\u001b[0m\n",
            "[jovian] Uploading colab notebook to Jovian...\u001b[0m\n",
            "[jovian] Committed successfully! https://jovian.ai/ayushxx7/02-insurance-linear-regression\u001b[0m\n"
          ],
          "name": "stdout"
        },
        {
          "output_type": "execute_result",
          "data": {
            "application/vnd.google.colaboratory.intrinsic+json": {
              "type": "string"
            },
            "text/plain": [
              "'https://jovian.ai/ayushxx7/02-insurance-linear-regression'"
            ]
          },
          "metadata": {
            "tags": []
          },
          "execution_count": 199
        }
      ]
    },
    {
      "cell_type": "markdown",
      "metadata": {
        "id": "1SomqIMMV5rL"
      },
      "source": [
        "## Step 3: Create a Linear Regression Model\n",
        "\n",
        "Our model itself is a fairly straightforward linear regression (we'll build more complex models in the next assignment). \n"
      ]
    },
    {
      "cell_type": "code",
      "metadata": {
        "id": "CrxeilGXV5rL"
      },
      "source": [
        "input_size = len(input_cols)\n",
        "output_size = len(output_cols)"
      ],
      "execution_count": 200,
      "outputs": []
    },
    {
      "cell_type": "markdown",
      "metadata": {
        "id": "eGdmCM26V5rL"
      },
      "source": [
        "**Q: Complete the class definition below by filling out the constructor (`__init__`), `forward`, `training_step` and `validation_step` methods.**\n",
        "\n",
        "Hint: Think carefully about picking a good loss fuction (it's not cross entropy). Maybe try 2-3 of them and see which one works best. See https://pytorch.org/docs/stable/nn.functional.html#loss-functions"
      ]
    },
    {
      "cell_type": "code",
      "metadata": {
        "colab": {
          "base_uri": "https://localhost:8080/"
        },
        "id": "YblInuzPI3Of",
        "outputId": "4516a9d8-4fe4-49dd-acca-0d11303ab31f"
      },
      "source": [
        "inputs.shape"
      ],
      "execution_count": 201,
      "outputs": [
        {
          "output_type": "execute_result",
          "data": {
            "text/plain": [
              "torch.Size([1271, 5])"
            ]
          },
          "metadata": {
            "tags": []
          },
          "execution_count": 201
        }
      ]
    },
    {
      "cell_type": "code",
      "metadata": {
        "id": "fXF0RTANV5rL"
      },
      "source": [
        "class InsuranceModel(nn.Module):\n",
        "    def __init__(self):\n",
        "        super().__init__()\n",
        "        self.linear = nn.Linear(input_size, output_size)                  # fill this (hint: use input_size & output_size defined above)\n",
        "\n",
        "    def forward(self, xb):\n",
        "        out = self.linear(xb)                          # fill this\n",
        "        return out\n",
        "    \n",
        "    def training_step(self, batch):\n",
        "        inputs, targets = batch \n",
        "        # Generate predictions\n",
        "        out = self(inputs)    # current object is the model, so pass in self directly        \n",
        "        # Calcuate loss\n",
        "        loss = F.mse_loss(out, targets)                          # fill this\n",
        "        return loss\n",
        "    \n",
        "    def validation_step(self, batch):\n",
        "        inputs, targets = batch\n",
        "        # Generate predictions\n",
        "        out = self(inputs) \n",
        "        # Calculate loss\n",
        "        loss = F.mse_loss(out, targets)                          # fill this\n",
        "        # implement accurary later on    \n",
        "        return {'val_loss': loss.detach()}\n",
        "        \n",
        "    def validation_epoch_end(self, outputs):\n",
        "        batch_losses = [x['val_loss'] for x in outputs]\n",
        "        epoch_loss = torch.stack(batch_losses).mean()   # Combine losses\n",
        "        return {'val_loss': epoch_loss.item()}\n",
        "    \n",
        "    def epoch_end(self, epoch, result, num_epochs):\n",
        "        # Print result every 20th epoch\n",
        "        if (epoch+1) % 20 == 0 or epoch == num_epochs-1:\n",
        "            print(\"Epoch [{}], val_loss: {:.4f}\".format(epoch+1, result['val_loss']))"
      ],
      "execution_count": 202,
      "outputs": []
    },
    {
      "cell_type": "markdown",
      "metadata": {
        "id": "X9l2e5QOV5rL"
      },
      "source": [
        "Let us create a model using the `InsuranceModel` class. You may need to come back later and re-run the next cell to reinitialize the model, in case the loss becomes `nan` or `infinity`."
      ]
    },
    {
      "cell_type": "code",
      "metadata": {
        "id": "GZSNMGz8V5rM"
      },
      "source": [
        "model = InsuranceModel()"
      ],
      "execution_count": 203,
      "outputs": []
    },
    {
      "cell_type": "markdown",
      "metadata": {
        "id": "LoxYRXPuV5rM"
      },
      "source": [
        "Let's check out the weights and biases of the model using `model.parameters`."
      ]
    },
    {
      "cell_type": "code",
      "metadata": {
        "colab": {
          "base_uri": "https://localhost:8080/"
        },
        "id": "9gUVtjIQV5rM",
        "outputId": "8f1c3cb9-b396-4761-ca12-09339f56b644"
      },
      "source": [
        "list(model.parameters())"
      ],
      "execution_count": 204,
      "outputs": [
        {
          "output_type": "execute_result",
          "data": {
            "text/plain": [
              "[Parameter containing:\n",
              " tensor([[ 0.3124, -0.3270,  0.2170,  0.2459, -0.2572]], requires_grad=True),\n",
              " Parameter containing:\n",
              " tensor([-0.1632], requires_grad=True)]"
            ]
          },
          "metadata": {
            "tags": []
          },
          "execution_count": 204
        }
      ]
    },
    {
      "cell_type": "markdown",
      "metadata": {
        "id": "K4OSvvf0V5rM"
      },
      "source": [
        "One final commit before we train the model."
      ]
    },
    {
      "cell_type": "code",
      "metadata": {
        "colab": {
          "base_uri": "https://localhost:8080/",
          "height": 86
        },
        "id": "PHP61i92V5rM",
        "outputId": "07c9abbf-6e69-4d2d-f163-886390a3b8d5"
      },
      "source": [
        "jovian.commit(project=project_name, environment=None)"
      ],
      "execution_count": 205,
      "outputs": [
        {
          "output_type": "stream",
          "text": [
            "[jovian] Detected Colab notebook...\u001b[0m\n",
            "[jovian] Uploading colab notebook to Jovian...\u001b[0m\n",
            "[jovian] Committed successfully! https://jovian.ai/ayushxx7/02-insurance-linear-regression\u001b[0m\n"
          ],
          "name": "stdout"
        },
        {
          "output_type": "execute_result",
          "data": {
            "application/vnd.google.colaboratory.intrinsic+json": {
              "type": "string"
            },
            "text/plain": [
              "'https://jovian.ai/ayushxx7/02-insurance-linear-regression'"
            ]
          },
          "metadata": {
            "tags": []
          },
          "execution_count": 205
        }
      ]
    },
    {
      "cell_type": "markdown",
      "metadata": {
        "id": "kZgtF441V5rN"
      },
      "source": [
        "## Step 4: Train the model to fit the data\n",
        "\n",
        "To train our model, we'll use the same `fit` function explained in the lecture. That's the benefit of defining a generic training loop - you can use it for any problem."
      ]
    },
    {
      "cell_type": "code",
      "metadata": {
        "id": "YkUA1aGMV5rN"
      },
      "source": [
        "def evaluate(model, val_loader):\n",
        "    outputs = [model.validation_step(batch) for batch in val_loader]\n",
        "    return model.validation_epoch_end(outputs)\n",
        "\n",
        "def fit(epochs, lr, model, train_loader, val_loader, opt_func=torch.optim.SGD):\n",
        "    history = []\n",
        "    optimizer = opt_func(model.parameters(), lr)\n",
        "    for epoch in range(epochs):\n",
        "        # Training Phase \n",
        "        for batch in train_loader:\n",
        "            loss = model.training_step(batch)\n",
        "            loss.backward()\n",
        "            optimizer.step()\n",
        "            optimizer.zero_grad()\n",
        "        # Validation phase\n",
        "        result = evaluate(model, val_loader)\n",
        "        model.epoch_end(epoch, result, epochs)\n",
        "        history.append(result)\n",
        "    return history"
      ],
      "execution_count": 206,
      "outputs": []
    },
    {
      "cell_type": "markdown",
      "metadata": {
        "id": "VPwz3io1V5rN"
      },
      "source": [
        "**Q: Use the `evaluate` function to calculate the loss on the validation set before training.**"
      ]
    },
    {
      "cell_type": "code",
      "metadata": {
        "colab": {
          "base_uri": "https://localhost:8080/"
        },
        "id": "X4dUCsmbV5rN",
        "outputId": "3c470201-919c-4919-dc3e-8d4343f5caf5"
      },
      "source": [
        "result = evaluate(model, val_ds) # Use the the evaluate function\n",
        "print(result)"
      ],
      "execution_count": 207,
      "outputs": [
        {
          "output_type": "stream",
          "text": [
            "{'val_loss': 383.4537048339844}\n"
          ],
          "name": "stdout"
        },
        {
          "output_type": "stream",
          "text": [
            "/usr/local/lib/python3.6/dist-packages/ipykernel_launcher.py:23: UserWarning: Using a target size (torch.Size([5])) that is different to the input size (torch.Size([1])). This will likely lead to incorrect results due to broadcasting. Please ensure they have the same size.\n"
          ],
          "name": "stderr"
        }
      ]
    },
    {
      "cell_type": "markdown",
      "metadata": {
        "id": "6T4yPd0JV5rN"
      },
      "source": [
        "\n",
        "We are now ready to train the model. You may need to run the training loop many times, for different number of epochs and with different learning rates, to get a good result. Also, if your loss becomes too large (or `nan`), you may have to re-initialize the model by running the cell `model = InsuranceModel()`. Experiment with this for a while, and try to get to as low a loss as possible."
      ]
    },
    {
      "cell_type": "markdown",
      "metadata": {
        "id": "i8UAi4nEV5rN"
      },
      "source": [
        "**Q: Train the model 4-5 times with different learning rates & for different number of epochs.**\n",
        "\n",
        "Hint: Vary learning rates by orders of 10 (e.g. `1e-2`, `1e-3`, `1e-4`, `1e-5`, `1e-6`) to figure out what works."
      ]
    },
    {
      "cell_type": "code",
      "metadata": {
        "colab": {
          "base_uri": "https://localhost:8080/"
        },
        "id": "IviDloNTV5rN",
        "outputId": "8bfa6df9-aba6-426f-ddf0-53bedb71d695"
      },
      "source": [
        "epochs = 1000\n",
        "lr = 1e-5\n",
        "history1 = fit(epochs, lr, model, train_loader, val_loader)"
      ],
      "execution_count": 208,
      "outputs": [
        {
          "output_type": "stream",
          "text": [
            "/usr/local/lib/python3.6/dist-packages/ipykernel_launcher.py:15: UserWarning: Using a target size (torch.Size([100, 5])) that is different to the input size (torch.Size([100, 1])). This will likely lead to incorrect results due to broadcasting. Please ensure they have the same size.\n",
            "  from ipykernel import kernelapp as app\n",
            "/usr/local/lib/python3.6/dist-packages/ipykernel_launcher.py:15: UserWarning: Using a target size (torch.Size([17, 5])) that is different to the input size (torch.Size([17, 1])). This will likely lead to incorrect results due to broadcasting. Please ensure they have the same size.\n",
            "  from ipykernel import kernelapp as app\n",
            "/usr/local/lib/python3.6/dist-packages/ipykernel_launcher.py:23: UserWarning: Using a target size (torch.Size([100, 5])) that is different to the input size (torch.Size([100, 1])). This will likely lead to incorrect results due to broadcasting. Please ensure they have the same size.\n",
            "/usr/local/lib/python3.6/dist-packages/ipykernel_launcher.py:23: UserWarning: Using a target size (torch.Size([54, 5])) that is different to the input size (torch.Size([54, 1])). This will likely lead to incorrect results due to broadcasting. Please ensure they have the same size.\n"
          ],
          "name": "stderr"
        },
        {
          "output_type": "stream",
          "text": [
            "Epoch [20], val_loss: 357.1375\n",
            "Epoch [40], val_loss: 357.0111\n",
            "Epoch [60], val_loss: 356.9641\n",
            "Epoch [80], val_loss: 356.9447\n",
            "Epoch [100], val_loss: 356.9364\n",
            "Epoch [120], val_loss: 356.9337\n",
            "Epoch [140], val_loss: 356.9316\n",
            "Epoch [160], val_loss: 356.9321\n",
            "Epoch [180], val_loss: 356.9303\n",
            "Epoch [200], val_loss: 356.9309\n",
            "Epoch [220], val_loss: 356.9306\n",
            "Epoch [240], val_loss: 356.9302\n",
            "Epoch [260], val_loss: 356.9296\n",
            "Epoch [280], val_loss: 356.9290\n",
            "Epoch [300], val_loss: 356.9286\n",
            "Epoch [320], val_loss: 356.9290\n",
            "Epoch [340], val_loss: 356.9285\n",
            "Epoch [360], val_loss: 356.9279\n",
            "Epoch [380], val_loss: 356.9277\n",
            "Epoch [400], val_loss: 356.9274\n",
            "Epoch [420], val_loss: 356.9270\n",
            "Epoch [440], val_loss: 356.9264\n",
            "Epoch [460], val_loss: 356.9267\n",
            "Epoch [480], val_loss: 356.9261\n",
            "Epoch [500], val_loss: 356.9259\n",
            "Epoch [520], val_loss: 356.9261\n",
            "Epoch [540], val_loss: 356.9250\n",
            "Epoch [560], val_loss: 356.9259\n",
            "Epoch [580], val_loss: 356.9243\n",
            "Epoch [600], val_loss: 356.9240\n",
            "Epoch [620], val_loss: 356.9242\n",
            "Epoch [640], val_loss: 356.9242\n",
            "Epoch [660], val_loss: 356.9238\n",
            "Epoch [680], val_loss: 356.9236\n",
            "Epoch [700], val_loss: 356.9233\n",
            "Epoch [720], val_loss: 356.9226\n",
            "Epoch [740], val_loss: 356.9225\n",
            "Epoch [760], val_loss: 356.9220\n",
            "Epoch [780], val_loss: 356.9222\n",
            "Epoch [800], val_loss: 356.9218\n",
            "Epoch [820], val_loss: 356.9210\n",
            "Epoch [840], val_loss: 356.9208\n",
            "Epoch [860], val_loss: 356.9208\n",
            "Epoch [880], val_loss: 356.9206\n",
            "Epoch [900], val_loss: 356.9201\n",
            "Epoch [920], val_loss: 356.9198\n",
            "Epoch [940], val_loss: 356.9201\n",
            "Epoch [960], val_loss: 356.9197\n",
            "Epoch [980], val_loss: 356.9192\n",
            "Epoch [1000], val_loss: 356.9193\n"
          ],
          "name": "stdout"
        }
      ]
    },
    {
      "cell_type": "code",
      "metadata": {
        "colab": {
          "base_uri": "https://localhost:8080/"
        },
        "id": "k9QneyHAV5rO",
        "outputId": "193e82ab-b23f-4383-dbd3-e2d10575a2f9"
      },
      "source": [
        "model = InsuranceModel()\n",
        "epochs = 1000\n",
        "lr = 1e-1\n",
        "history1 = fit(epochs, lr, model, train_loader, val_loader)"
      ],
      "execution_count": 213,
      "outputs": [
        {
          "output_type": "stream",
          "text": [
            "/usr/local/lib/python3.6/dist-packages/ipykernel_launcher.py:15: UserWarning: Using a target size (torch.Size([100, 5])) that is different to the input size (torch.Size([100, 1])). This will likely lead to incorrect results due to broadcasting. Please ensure they have the same size.\n",
            "  from ipykernel import kernelapp as app\n",
            "/usr/local/lib/python3.6/dist-packages/ipykernel_launcher.py:15: UserWarning: Using a target size (torch.Size([17, 5])) that is different to the input size (torch.Size([17, 1])). This will likely lead to incorrect results due to broadcasting. Please ensure they have the same size.\n",
            "  from ipykernel import kernelapp as app\n",
            "/usr/local/lib/python3.6/dist-packages/ipykernel_launcher.py:23: UserWarning: Using a target size (torch.Size([100, 5])) that is different to the input size (torch.Size([100, 1])). This will likely lead to incorrect results due to broadcasting. Please ensure they have the same size.\n",
            "/usr/local/lib/python3.6/dist-packages/ipykernel_launcher.py:23: UserWarning: Using a target size (torch.Size([54, 5])) that is different to the input size (torch.Size([54, 1])). This will likely lead to incorrect results due to broadcasting. Please ensure they have the same size.\n"
          ],
          "name": "stderr"
        },
        {
          "output_type": "stream",
          "text": [
            "Epoch [20], val_loss: nan\n",
            "Epoch [40], val_loss: nan\n",
            "Epoch [60], val_loss: nan\n",
            "Epoch [80], val_loss: nan\n",
            "Epoch [100], val_loss: nan\n",
            "Epoch [120], val_loss: nan\n",
            "Epoch [140], val_loss: nan\n",
            "Epoch [160], val_loss: nan\n",
            "Epoch [180], val_loss: nan\n",
            "Epoch [200], val_loss: nan\n",
            "Epoch [220], val_loss: nan\n",
            "Epoch [240], val_loss: nan\n",
            "Epoch [260], val_loss: nan\n",
            "Epoch [280], val_loss: nan\n",
            "Epoch [300], val_loss: nan\n",
            "Epoch [320], val_loss: nan\n",
            "Epoch [340], val_loss: nan\n",
            "Epoch [360], val_loss: nan\n",
            "Epoch [380], val_loss: nan\n",
            "Epoch [400], val_loss: nan\n",
            "Epoch [420], val_loss: nan\n",
            "Epoch [440], val_loss: nan\n",
            "Epoch [460], val_loss: nan\n",
            "Epoch [480], val_loss: nan\n",
            "Epoch [500], val_loss: nan\n",
            "Epoch [520], val_loss: nan\n",
            "Epoch [540], val_loss: nan\n",
            "Epoch [560], val_loss: nan\n",
            "Epoch [580], val_loss: nan\n",
            "Epoch [600], val_loss: nan\n",
            "Epoch [620], val_loss: nan\n",
            "Epoch [640], val_loss: nan\n",
            "Epoch [660], val_loss: nan\n",
            "Epoch [680], val_loss: nan\n",
            "Epoch [700], val_loss: nan\n",
            "Epoch [720], val_loss: nan\n",
            "Epoch [740], val_loss: nan\n",
            "Epoch [760], val_loss: nan\n",
            "Epoch [780], val_loss: nan\n",
            "Epoch [800], val_loss: nan\n",
            "Epoch [820], val_loss: nan\n",
            "Epoch [840], val_loss: nan\n",
            "Epoch [860], val_loss: nan\n",
            "Epoch [880], val_loss: nan\n",
            "Epoch [900], val_loss: nan\n",
            "Epoch [920], val_loss: nan\n",
            "Epoch [940], val_loss: nan\n",
            "Epoch [960], val_loss: nan\n",
            "Epoch [980], val_loss: nan\n",
            "Epoch [1000], val_loss: nan\n"
          ],
          "name": "stdout"
        }
      ]
    },
    {
      "cell_type": "code",
      "metadata": {
        "colab": {
          "base_uri": "https://localhost:8080/"
        },
        "id": "BN23-DAKV5rO",
        "outputId": "3014447c-41ec-40a5-b2d8-e0763b6ee2fa"
      },
      "source": [
        "epochs = 500\n",
        "lr = 1e-2\n",
        "history1 = fit(epochs, lr, model, train_loader, val_loader)"
      ],
      "execution_count": 210,
      "outputs": [
        {
          "output_type": "stream",
          "text": [
            "/usr/local/lib/python3.6/dist-packages/ipykernel_launcher.py:15: UserWarning: Using a target size (torch.Size([100, 5])) that is different to the input size (torch.Size([100, 1])). This will likely lead to incorrect results due to broadcasting. Please ensure they have the same size.\n",
            "  from ipykernel import kernelapp as app\n",
            "/usr/local/lib/python3.6/dist-packages/ipykernel_launcher.py:15: UserWarning: Using a target size (torch.Size([17, 5])) that is different to the input size (torch.Size([17, 1])). This will likely lead to incorrect results due to broadcasting. Please ensure they have the same size.\n",
            "  from ipykernel import kernelapp as app\n",
            "/usr/local/lib/python3.6/dist-packages/ipykernel_launcher.py:23: UserWarning: Using a target size (torch.Size([100, 5])) that is different to the input size (torch.Size([100, 1])). This will likely lead to incorrect results due to broadcasting. Please ensure they have the same size.\n",
            "/usr/local/lib/python3.6/dist-packages/ipykernel_launcher.py:23: UserWarning: Using a target size (torch.Size([54, 5])) that is different to the input size (torch.Size([54, 1])). This will likely lead to incorrect results due to broadcasting. Please ensure they have the same size.\n"
          ],
          "name": "stderr"
        },
        {
          "output_type": "stream",
          "text": [
            "Epoch [20], val_loss: nan\n",
            "Epoch [40], val_loss: nan\n",
            "Epoch [60], val_loss: nan\n",
            "Epoch [80], val_loss: nan\n",
            "Epoch [100], val_loss: nan\n",
            "Epoch [120], val_loss: nan\n",
            "Epoch [140], val_loss: nan\n",
            "Epoch [160], val_loss: nan\n",
            "Epoch [180], val_loss: nan\n",
            "Epoch [200], val_loss: nan\n",
            "Epoch [220], val_loss: nan\n",
            "Epoch [240], val_loss: nan\n",
            "Epoch [260], val_loss: nan\n",
            "Epoch [280], val_loss: nan\n",
            "Epoch [300], val_loss: nan\n",
            "Epoch [320], val_loss: nan\n",
            "Epoch [340], val_loss: nan\n",
            "Epoch [360], val_loss: nan\n",
            "Epoch [380], val_loss: nan\n",
            "Epoch [400], val_loss: nan\n",
            "Epoch [420], val_loss: nan\n",
            "Epoch [440], val_loss: nan\n",
            "Epoch [460], val_loss: nan\n",
            "Epoch [480], val_loss: nan\n",
            "Epoch [500], val_loss: nan\n"
          ],
          "name": "stdout"
        }
      ]
    },
    {
      "cell_type": "code",
      "metadata": {
        "colab": {
          "base_uri": "https://localhost:8080/",
          "height": 129
        },
        "id": "IxXD_t03V5rO",
        "outputId": "705f7776-c639-4b0c-ad1d-b846e68a989c"
      },
      "source": [
        "epochs = ???\n",
        "lr = ???\n",
        "history4 = fit(epochs, lr, model, train_loader, val_loader)"
      ],
      "execution_count": 211,
      "outputs": [
        {
          "output_type": "error",
          "ename": "SyntaxError",
          "evalue": "ignored",
          "traceback": [
            "\u001b[0;36m  File \u001b[0;32m\"<ipython-input-211-d681f4748291>\"\u001b[0;36m, line \u001b[0;32m1\u001b[0m\n\u001b[0;31m    epochs = ???\u001b[0m\n\u001b[0m             ^\u001b[0m\n\u001b[0;31mSyntaxError\u001b[0m\u001b[0;31m:\u001b[0m invalid syntax\n"
          ]
        }
      ]
    },
    {
      "cell_type": "code",
      "metadata": {
        "id": "JqISBcuSV5rO"
      },
      "source": [
        "epochs = ???\n",
        "lr = ???\n",
        "history5 = fit(epochs, lr, model, train_loader, val_loader)"
      ],
      "execution_count": null,
      "outputs": []
    },
    {
      "cell_type": "markdown",
      "metadata": {
        "id": "PcF2PNjLV5rO"
      },
      "source": [
        "**Q: What is the final validation loss of your model?**"
      ]
    },
    {
      "cell_type": "code",
      "metadata": {
        "id": "wJ3bf97IV5rO"
      },
      "source": [
        "val_loss = ???"
      ],
      "execution_count": null,
      "outputs": []
    },
    {
      "cell_type": "markdown",
      "metadata": {
        "id": "v1HfQhacV5rO"
      },
      "source": [
        "Let's log the final validation loss to Jovian and commit the notebook"
      ]
    },
    {
      "cell_type": "code",
      "metadata": {
        "id": "rluDi-agV5rP"
      },
      "source": [
        "jovian.log_metrics(val_loss=val_loss)"
      ],
      "execution_count": null,
      "outputs": []
    },
    {
      "cell_type": "code",
      "metadata": {
        "id": "k2SItZNJV5rP"
      },
      "source": [
        "jovian.commit(project=project_name, environment=None)"
      ],
      "execution_count": null,
      "outputs": []
    },
    {
      "cell_type": "markdown",
      "metadata": {
        "id": "m1RDIO_wV5rP"
      },
      "source": [
        "Now scroll back up, re-initialize the model, and try different set of values for batch size, number of epochs, learning rate etc. Commit each experiment and use the \"Compare\" and \"View Diff\" options on Jovian to compare the different results."
      ]
    },
    {
      "cell_type": "markdown",
      "metadata": {
        "id": "X7BBN95mV5rP"
      },
      "source": [
        "## Step 5: Make predictions using the trained model\n",
        "\n",
        "**Q: Complete the following function definition to make predictions on a single input**"
      ]
    },
    {
      "cell_type": "code",
      "metadata": {
        "id": "wPgsq8VSV5rP"
      },
      "source": [
        "def predict_single(input, target, model):\n",
        "    inputs = input.unsqueeze(0)\n",
        "    predictions = ???                # fill this\n",
        "    prediction = predictions[0].detach()\n",
        "    print(\"Input:\", input)\n",
        "    print(\"Target:\", target)\n",
        "    print(\"Prediction:\", prediction)"
      ],
      "execution_count": null,
      "outputs": []
    },
    {
      "cell_type": "code",
      "metadata": {
        "id": "kpgxP1MvV5rP"
      },
      "source": [
        "input, target = val_ds[0]\n",
        "predict_single(input, target, model)"
      ],
      "execution_count": null,
      "outputs": []
    },
    {
      "cell_type": "code",
      "metadata": {
        "id": "kaE2gVFNV5rP"
      },
      "source": [
        "input, target = val_ds[10]\n",
        "predict_single(input, target, model)"
      ],
      "execution_count": null,
      "outputs": []
    },
    {
      "cell_type": "code",
      "metadata": {
        "id": "gofqBzt3V5rP"
      },
      "source": [
        "input, target = val_ds[23]\n",
        "predict_single(input, target, model)"
      ],
      "execution_count": null,
      "outputs": []
    },
    {
      "cell_type": "markdown",
      "metadata": {
        "id": "PhRidByzV5rQ"
      },
      "source": [
        "Are you happy with your model's predictions? Try to improve them further."
      ]
    },
    {
      "cell_type": "markdown",
      "metadata": {
        "id": "DwpgoHDTV5rQ"
      },
      "source": [
        "## (Optional) Step 6: Try another dataset & blog about it\n",
        "\n",
        "While this last step is optional for the submission of your assignment, we highly recommend that you do it. Try to replicate this notebook for a different linear regression or logistic regression problem. This will help solidify your understanding, and give you a chance to differentiate the generic patterns in machine learning from problem-specific details.You can use one of these starer notebooks (just change the dataset):\n",
        "\n",
        "- Linear regression (minimal): https://jovian.ai/aakashns/housing-linear-minimal\n",
        "- Logistic regression (minimal): https://jovian.ai/aakashns/mnist-logistic-minimal\n",
        "\n",
        "Here are some sources to find good datasets:\n",
        "\n",
        "- https://lionbridge.ai/datasets/10-open-datasets-for-linear-regression/\n",
        "- https://www.kaggle.com/rtatman/datasets-for-regression-analysis\n",
        "- https://archive.ics.uci.edu/ml/datasets.php?format=&task=reg&att=&area=&numAtt=&numIns=&type=&sort=nameUp&view=table\n",
        "- https://people.sc.fsu.edu/~jburkardt/datasets/regression/regression.html\n",
        "- https://archive.ics.uci.edu/ml/datasets/wine+quality\n",
        "- https://pytorch.org/docs/stable/torchvision/datasets.html\n",
        "\n",
        "We also recommend that you write a blog about your approach to the problem. Here is a suggested structure for your post (feel free to experiment with it):\n",
        "\n",
        "- Interesting title & subtitle\n",
        "- Overview of what the blog covers (which dataset, linear regression or logistic regression, intro to PyTorch)\n",
        "- Downloading & exploring the data\n",
        "- Preparing the data for training\n",
        "- Creating a model using PyTorch\n",
        "- Training the model to fit the data\n",
        "- Your thoughts on how to experiment with different hyperparmeters to reduce loss\n",
        "- Making predictions using the model\n",
        "\n",
        "As with the previous assignment, you can [embed Juptyer notebook cells & outputs from Jovian](https://medium.com/jovianml/share-and-embed-jupyter-notebooks-online-with-jovian-ml-df709a03064e) into your blog. \n",
        "\n",
        "Don't forget to share your work on the forum: https://jovian.ai/forum/t/linear-regression-and-logistic-regression-notebooks-and-blog-posts/14039"
      ]
    },
    {
      "cell_type": "code",
      "metadata": {
        "id": "4EhUf38WV5rQ"
      },
      "source": [
        "jovian.commit(project=project_name, environment=None)\n",
        "jovian.commit(project=project_name, environment=None) # try again, kaggle fails sometimes"
      ],
      "execution_count": null,
      "outputs": []
    },
    {
      "cell_type": "code",
      "metadata": {
        "id": "wwGC8eKdV5rQ"
      },
      "source": [
        ""
      ],
      "execution_count": null,
      "outputs": []
    }
  ]
}