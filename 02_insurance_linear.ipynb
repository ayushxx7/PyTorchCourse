{
  "nbformat": 4,
  "nbformat_minor": 0,
  "metadata": {
    "kernelspec": {
      "display_name": "Python 3",
      "language": "python",
      "name": "python3"
    },
    "language_info": {
      "codemirror_mode": {
        "name": "ipython",
        "version": 3
      },
      "file_extension": ".py",
      "mimetype": "text/x-python",
      "name": "python",
      "nbconvert_exporter": "python",
      "pygments_lexer": "ipython3",
      "version": "3.8.5"
    },
    "colab": {
      "name": "02-insurance-linear.ipynb",
      "provenance": [],
      "include_colab_link": true
    },
    "widgets": {
      "application/vnd.jupyter.widget-state+json": {
        "303da8442fcc4775981213ebb447b50f": {
          "model_module": "@jupyter-widgets/controls",
          "model_name": "HBoxModel",
          "state": {
            "_view_name": "HBoxView",
            "_dom_classes": [],
            "_model_name": "HBoxModel",
            "_view_module": "@jupyter-widgets/controls",
            "_model_module_version": "1.5.0",
            "_view_count": null,
            "_view_module_version": "1.5.0",
            "box_style": "",
            "layout": "IPY_MODEL_392df08b92594ba0b17ce6588fe81147",
            "_model_module": "@jupyter-widgets/controls",
            "children": [
              "IPY_MODEL_208bfdf0971d41478383d83030fcd920",
              "IPY_MODEL_9fdfa918ddac4ef0b950d5dd1dfd0fa5"
            ]
          }
        },
        "392df08b92594ba0b17ce6588fe81147": {
          "model_module": "@jupyter-widgets/base",
          "model_name": "LayoutModel",
          "state": {
            "_view_name": "LayoutView",
            "grid_template_rows": null,
            "right": null,
            "justify_content": null,
            "_view_module": "@jupyter-widgets/base",
            "overflow": null,
            "_model_module_version": "1.2.0",
            "_view_count": null,
            "flex_flow": null,
            "width": null,
            "min_width": null,
            "border": null,
            "align_items": null,
            "bottom": null,
            "_model_module": "@jupyter-widgets/base",
            "top": null,
            "grid_column": null,
            "overflow_y": null,
            "overflow_x": null,
            "grid_auto_flow": null,
            "grid_area": null,
            "grid_template_columns": null,
            "flex": null,
            "_model_name": "LayoutModel",
            "justify_items": null,
            "grid_row": null,
            "max_height": null,
            "align_content": null,
            "visibility": null,
            "align_self": null,
            "height": null,
            "min_height": null,
            "padding": null,
            "grid_auto_rows": null,
            "grid_gap": null,
            "max_width": null,
            "order": null,
            "_view_module_version": "1.2.0",
            "grid_template_areas": null,
            "object_position": null,
            "object_fit": null,
            "grid_auto_columns": null,
            "margin": null,
            "display": null,
            "left": null
          }
        },
        "208bfdf0971d41478383d83030fcd920": {
          "model_module": "@jupyter-widgets/controls",
          "model_name": "FloatProgressModel",
          "state": {
            "_view_name": "ProgressView",
            "style": "IPY_MODEL_861f8826920640d584103934fc43fc1d",
            "_dom_classes": [],
            "description": "",
            "_model_name": "FloatProgressModel",
            "bar_style": "info",
            "max": 1,
            "_view_module": "@jupyter-widgets/controls",
            "_model_module_version": "1.5.0",
            "value": 1,
            "_view_count": null,
            "_view_module_version": "1.5.0",
            "orientation": "horizontal",
            "min": 0,
            "description_tooltip": null,
            "_model_module": "@jupyter-widgets/controls",
            "layout": "IPY_MODEL_c74ae183c1254b6a8b7cb675d39641ff"
          }
        },
        "9fdfa918ddac4ef0b950d5dd1dfd0fa5": {
          "model_module": "@jupyter-widgets/controls",
          "model_name": "HTMLModel",
          "state": {
            "_view_name": "HTMLView",
            "style": "IPY_MODEL_bfabd192d7134bfd8acbf85899a5dc9a",
            "_dom_classes": [],
            "description": "",
            "_model_name": "HTMLModel",
            "placeholder": "​",
            "_view_module": "@jupyter-widgets/controls",
            "_model_module_version": "1.5.0",
            "value": " 57344/? [00:19&lt;00:00, 133980.51it/s]",
            "_view_count": null,
            "_view_module_version": "1.5.0",
            "description_tooltip": null,
            "_model_module": "@jupyter-widgets/controls",
            "layout": "IPY_MODEL_b7811844eace420e84ebd73645e81529"
          }
        },
        "861f8826920640d584103934fc43fc1d": {
          "model_module": "@jupyter-widgets/controls",
          "model_name": "ProgressStyleModel",
          "state": {
            "_view_name": "StyleView",
            "_model_name": "ProgressStyleModel",
            "description_width": "initial",
            "_view_module": "@jupyter-widgets/base",
            "_model_module_version": "1.5.0",
            "_view_count": null,
            "_view_module_version": "1.2.0",
            "bar_color": null,
            "_model_module": "@jupyter-widgets/controls"
          }
        },
        "c74ae183c1254b6a8b7cb675d39641ff": {
          "model_module": "@jupyter-widgets/base",
          "model_name": "LayoutModel",
          "state": {
            "_view_name": "LayoutView",
            "grid_template_rows": null,
            "right": null,
            "justify_content": null,
            "_view_module": "@jupyter-widgets/base",
            "overflow": null,
            "_model_module_version": "1.2.0",
            "_view_count": null,
            "flex_flow": null,
            "width": null,
            "min_width": null,
            "border": null,
            "align_items": null,
            "bottom": null,
            "_model_module": "@jupyter-widgets/base",
            "top": null,
            "grid_column": null,
            "overflow_y": null,
            "overflow_x": null,
            "grid_auto_flow": null,
            "grid_area": null,
            "grid_template_columns": null,
            "flex": null,
            "_model_name": "LayoutModel",
            "justify_items": null,
            "grid_row": null,
            "max_height": null,
            "align_content": null,
            "visibility": null,
            "align_self": null,
            "height": null,
            "min_height": null,
            "padding": null,
            "grid_auto_rows": null,
            "grid_gap": null,
            "max_width": null,
            "order": null,
            "_view_module_version": "1.2.0",
            "grid_template_areas": null,
            "object_position": null,
            "object_fit": null,
            "grid_auto_columns": null,
            "margin": null,
            "display": null,
            "left": null
          }
        },
        "bfabd192d7134bfd8acbf85899a5dc9a": {
          "model_module": "@jupyter-widgets/controls",
          "model_name": "DescriptionStyleModel",
          "state": {
            "_view_name": "StyleView",
            "_model_name": "DescriptionStyleModel",
            "description_width": "",
            "_view_module": "@jupyter-widgets/base",
            "_model_module_version": "1.5.0",
            "_view_count": null,
            "_view_module_version": "1.2.0",
            "_model_module": "@jupyter-widgets/controls"
          }
        },
        "b7811844eace420e84ebd73645e81529": {
          "model_module": "@jupyter-widgets/base",
          "model_name": "LayoutModel",
          "state": {
            "_view_name": "LayoutView",
            "grid_template_rows": null,
            "right": null,
            "justify_content": null,
            "_view_module": "@jupyter-widgets/base",
            "overflow": null,
            "_model_module_version": "1.2.0",
            "_view_count": null,
            "flex_flow": null,
            "width": null,
            "min_width": null,
            "border": null,
            "align_items": null,
            "bottom": null,
            "_model_module": "@jupyter-widgets/base",
            "top": null,
            "grid_column": null,
            "overflow_y": null,
            "overflow_x": null,
            "grid_auto_flow": null,
            "grid_area": null,
            "grid_template_columns": null,
            "flex": null,
            "_model_name": "LayoutModel",
            "justify_items": null,
            "grid_row": null,
            "max_height": null,
            "align_content": null,
            "visibility": null,
            "align_self": null,
            "height": null,
            "min_height": null,
            "padding": null,
            "grid_auto_rows": null,
            "grid_gap": null,
            "max_width": null,
            "order": null,
            "_view_module_version": "1.2.0",
            "grid_template_areas": null,
            "object_position": null,
            "object_fit": null,
            "grid_auto_columns": null,
            "margin": null,
            "display": null,
            "left": null
          }
        }
      }
    }
  },
  "cells": [
    {
      "cell_type": "markdown",
      "metadata": {
        "id": "view-in-github",
        "colab_type": "text"
      },
      "source": [
        "<a href=\"https://colab.research.google.com/github/ayushxx7/PyTorchCourse/blob/master/02_insurance_linear.ipynb\" target=\"_parent\"><img src=\"https://colab.research.google.com/assets/colab-badge.svg\" alt=\"Open In Colab\"/></a>"
      ]
    },
    {
      "cell_type": "code",
      "metadata": {
        "colab": {
          "base_uri": "https://localhost:8080/"
        },
        "id": "Cfw78XlJV5q6",
        "outputId": "7067e4fe-e263-4396-f561-3dc54ab124c1"
      },
      "source": [
        "# Jovian Commit Essentials\n",
        "# Please retain and execute this cell without modifying the contents for `jovian.commit` to work\n",
        "!pip install jovian --upgrade -q\n",
        "import jovian\n",
        "jovian.utils.colab.set_colab_file_id('13vrlKp7WamOb-YOus_sPGRWX-tINRxe9')"
      ],
      "execution_count": 1,
      "outputs": [
        {
          "output_type": "stream",
          "text": [
            "\u001b[?25l\r\u001b[K     |█████                           | 10kB 16.7MB/s eta 0:00:01\r\u001b[K     |██████████                      | 20kB 22.1MB/s eta 0:00:01\r\u001b[K     |██████████████▉                 | 30kB 13.2MB/s eta 0:00:01\r\u001b[K     |███████████████████▉            | 40kB 9.8MB/s eta 0:00:01\r\u001b[K     |████████████████████████▉       | 51kB 4.5MB/s eta 0:00:01\r\u001b[K     |█████████████████████████████▊  | 61kB 4.9MB/s eta 0:00:01\r\u001b[K     |████████████████████████████████| 71kB 3.3MB/s \n",
            "\u001b[?25h  Building wheel for uuid (setup.py) ... \u001b[?25l\u001b[?25hdone\n"
          ],
          "name": "stdout"
        }
      ]
    },
    {
      "cell_type": "markdown",
      "metadata": {
        "_cell_guid": "b1076dfc-b9ad-4769-8c92-a6c4dae69d19",
        "_uuid": "8f2839f25d086af736a60e9eeb907d3b93b6e0e5",
        "id": "sB3eVbj8V5rA"
      },
      "source": [
        "# Insurance cost prediction using linear regression\n",
        "\n",
        "Make a submisson here: https://jovian.ai/learn/deep-learning-with-pytorch-zero-to-gans/assignment/assignment-2-train-your-first-model\n",
        "\n",
        "In this assignment we're going to use information like a person's age, sex, BMI, no. of children and smoking habit to predict the price of yearly medical bills. This kind of model is useful for insurance companies to determine the yearly insurance premium for a person. The dataset for this problem is taken from [Kaggle](https://www.kaggle.com/mirichoi0218/insurance).\n",
        "\n",
        "\n",
        "We will create a model with the following steps:\n",
        "1. Download and explore the dataset\n",
        "2. Prepare the dataset for training\n",
        "3. Create a linear regression model\n",
        "4. Train the model to fit the data\n",
        "5. Make predictions using the trained model\n",
        "\n",
        "\n",
        "This assignment builds upon the concepts from the first 2 lessons. It will help to review these Jupyter notebooks:\n",
        "- PyTorch basics: https://jovian.ai/aakashns/01-pytorch-basics\n",
        "- Linear Regression: https://jovian.ai/aakashns/02-linear-regression\n",
        "- Logistic Regression: https://jovian.ai/aakashns/03-logistic-regression\n",
        "- Linear regression (minimal): https://jovian.ai/aakashns/housing-linear-minimal\n",
        "- Logistic regression (minimal): https://jovian.ai/aakashns/mnist-logistic-minimal\n",
        "\n",
        "As you go through this notebook, you will find a **???** in certain places. Your job is to replace the **???** with appropriate code or values, to ensure that the notebook runs properly end-to-end . In some cases, you'll be required to choose some hyperparameters (learning rate, batch size etc.). Try to experiment with the hypeparameters to get the lowest loss.\n"
      ]
    },
    {
      "cell_type": "code",
      "metadata": {
        "colab": {
          "base_uri": "https://localhost:8080/"
        },
        "id": "JypuOptnV5rB",
        "outputId": "04b6e9ac-5f49-45c7-cf8e-cd4f4e540e8e"
      },
      "source": [
        "# Uncomment and run the appropriate command for your operating system, if required\n",
        "\n",
        "# Linux / Binder\n",
        "# !pip install numpy matplotlib pandas torch==1.7.0+cpu torchvision==0.8.1+cpu torchaudio==0.7.0 -f https://download.pytorch.org/whl/torch_stable.html\n",
        "\n",
        "# Windows\n",
        "!pip install numpy matplotlib pandas torch==1.7.0+cpu torchvision==0.8.1+cpu torchaudio==0.7.0 -f https://download.pytorch.org/whl/torch_stable.html\n",
        "\n",
        "# MacOS\n",
        "# !pip install numpy matplotlib pandas torch torchvision torchaudio"
      ],
      "execution_count": 2,
      "outputs": [
        {
          "output_type": "stream",
          "text": [
            "Looking in links: https://download.pytorch.org/whl/torch_stable.html\n",
            "Requirement already satisfied: numpy in /usr/local/lib/python3.6/dist-packages (1.18.5)\n",
            "Requirement already satisfied: matplotlib in /usr/local/lib/python3.6/dist-packages (3.2.2)\n",
            "Requirement already satisfied: pandas in /usr/local/lib/python3.6/dist-packages (1.1.5)\n",
            "Collecting torch==1.7.0+cpu\n",
            "\u001b[?25l  Downloading https://download.pytorch.org/whl/cpu/torch-1.7.0%2Bcpu-cp36-cp36m-linux_x86_64.whl (159.3MB)\n",
            "\u001b[K     |████████████████████████████████| 159.3MB 81kB/s \n",
            "\u001b[?25hCollecting torchvision==0.8.1+cpu\n",
            "\u001b[?25l  Downloading https://download.pytorch.org/whl/cpu/torchvision-0.8.1%2Bcpu-cp36-cp36m-linux_x86_64.whl (11.8MB)\n",
            "\u001b[K     |████████████████████████████████| 11.8MB 31.3MB/s \n",
            "\u001b[?25hCollecting torchaudio==0.7.0\n",
            "\u001b[?25l  Downloading https://files.pythonhosted.org/packages/3f/23/6b54106b3de029d3f10cf8debc302491c17630357449c900d6209665b302/torchaudio-0.7.0-cp36-cp36m-manylinux1_x86_64.whl (7.6MB)\n",
            "\u001b[K     |████████████████████████████████| 7.6MB 5.1MB/s \n",
            "\u001b[?25hRequirement already satisfied: cycler>=0.10 in /usr/local/lib/python3.6/dist-packages (from matplotlib) (0.10.0)\n",
            "Requirement already satisfied: python-dateutil>=2.1 in /usr/local/lib/python3.6/dist-packages (from matplotlib) (2.8.1)\n",
            "Requirement already satisfied: kiwisolver>=1.0.1 in /usr/local/lib/python3.6/dist-packages (from matplotlib) (1.3.1)\n",
            "Requirement already satisfied: pyparsing!=2.0.4,!=2.1.2,!=2.1.6,>=2.0.1 in /usr/local/lib/python3.6/dist-packages (from matplotlib) (2.4.7)\n",
            "Requirement already satisfied: pytz>=2017.2 in /usr/local/lib/python3.6/dist-packages (from pandas) (2018.9)\n",
            "Requirement already satisfied: future in /usr/local/lib/python3.6/dist-packages (from torch==1.7.0+cpu) (0.16.0)\n",
            "Requirement already satisfied: dataclasses in /usr/local/lib/python3.6/dist-packages (from torch==1.7.0+cpu) (0.8)\n",
            "Requirement already satisfied: typing-extensions in /usr/local/lib/python3.6/dist-packages (from torch==1.7.0+cpu) (3.7.4.3)\n",
            "Requirement already satisfied: pillow>=4.1.1 in /usr/local/lib/python3.6/dist-packages (from torchvision==0.8.1+cpu) (7.0.0)\n",
            "Requirement already satisfied: six in /usr/local/lib/python3.6/dist-packages (from cycler>=0.10->matplotlib) (1.15.0)\n",
            "Installing collected packages: torch, torchvision, torchaudio\n",
            "  Found existing installation: torch 1.7.0+cu101\n",
            "    Uninstalling torch-1.7.0+cu101:\n",
            "      Successfully uninstalled torch-1.7.0+cu101\n",
            "  Found existing installation: torchvision 0.8.1+cu101\n",
            "    Uninstalling torchvision-0.8.1+cu101:\n",
            "      Successfully uninstalled torchvision-0.8.1+cu101\n",
            "Successfully installed torch-1.7.0+cpu torchaudio-0.7.0 torchvision-0.8.1+cpu\n"
          ],
          "name": "stdout"
        }
      ]
    },
    {
      "cell_type": "code",
      "metadata": {
        "id": "oDnV_z9kV5rB"
      },
      "source": [
        "import torch\n",
        "import jovian\n",
        "import torchvision\n",
        "import torch.nn as nn\n",
        "import pandas as pd\n",
        "import matplotlib.pyplot as plt\n",
        "import seaborn as sns\n",
        "import torch.nn.functional as F\n",
        "from torchvision.datasets.utils import download_url\n",
        "from torch.utils.data import DataLoader, TensorDataset, random_split"
      ],
      "execution_count": 3,
      "outputs": []
    },
    {
      "cell_type": "code",
      "metadata": {
        "id": "4ZtvYokIV5rC"
      },
      "source": [
        "project_name='02-insurance-linear-regression' # will be used by jovian.commit"
      ],
      "execution_count": 4,
      "outputs": []
    },
    {
      "cell_type": "markdown",
      "metadata": {
        "id": "qQ6GhkIqV5rC"
      },
      "source": [
        "## Step 1: Download and explore the data\n",
        "\n",
        "Let us begin by downloading the data. We'll use the `download_url` function from PyTorch to get the data as a CSV (comma-separated values) file. "
      ]
    },
    {
      "cell_type": "code",
      "metadata": {
        "_cell_guid": "79c7e3d0-c299-4dcb-8224-4455121ee9b0",
        "_uuid": "d629ff2d2480ee46fbb7e2d37f6b5fab8052498a",
        "colab": {
          "base_uri": "https://localhost:8080/",
          "height": 66,
          "referenced_widgets": [
            "303da8442fcc4775981213ebb447b50f",
            "392df08b92594ba0b17ce6588fe81147",
            "208bfdf0971d41478383d83030fcd920",
            "9fdfa918ddac4ef0b950d5dd1dfd0fa5",
            "861f8826920640d584103934fc43fc1d",
            "c74ae183c1254b6a8b7cb675d39641ff",
            "bfabd192d7134bfd8acbf85899a5dc9a",
            "b7811844eace420e84ebd73645e81529"
          ]
        },
        "id": "Bd7K3Lz4V5rC",
        "outputId": "3dfda05b-7a22-40da-8114-00997ea4f94a"
      },
      "source": [
        "DATASET_URL = \"https://hub.jovian.ml/wp-content/uploads/2020/05/insurance.csv\"\n",
        "DATA_FILENAME = \"insurance.csv\"\n",
        "download_url(DATASET_URL, '.')"
      ],
      "execution_count": 5,
      "outputs": [
        {
          "output_type": "stream",
          "text": [
            "Downloading https://hub.jovian.ml/wp-content/uploads/2020/05/insurance.csv to ./insurance.csv\n"
          ],
          "name": "stdout"
        },
        {
          "output_type": "display_data",
          "data": {
            "application/vnd.jupyter.widget-view+json": {
              "model_id": "303da8442fcc4775981213ebb447b50f",
              "version_minor": 0,
              "version_major": 2
            },
            "text/plain": [
              "HBox(children=(FloatProgress(value=1.0, bar_style='info', max=1.0), HTML(value='')))"
            ]
          },
          "metadata": {
            "tags": []
          }
        }
      ]
    },
    {
      "cell_type": "markdown",
      "metadata": {
        "id": "HQqbotvJV5rD"
      },
      "source": [
        "To load the dataset into memory, we'll use the `read_csv` function from the `pandas` library. The data will be loaded as a Pandas dataframe. See this short tutorial to learn more: https://data36.com/pandas-tutorial-1-basics-reading-data-files-dataframes-data-selection/"
      ]
    },
    {
      "cell_type": "code",
      "metadata": {
        "colab": {
          "base_uri": "https://localhost:8080/",
          "height": 204
        },
        "id": "4RJerQEyV5rD",
        "outputId": "47189624-8456-4d7a-b205-23324b3e865f"
      },
      "source": [
        "dataframe_raw = pd.read_csv(DATA_FILENAME)\n",
        "dataframe_raw.head()"
      ],
      "execution_count": 6,
      "outputs": [
        {
          "output_type": "execute_result",
          "data": {
            "text/html": [
              "<div>\n",
              "<style scoped>\n",
              "    .dataframe tbody tr th:only-of-type {\n",
              "        vertical-align: middle;\n",
              "    }\n",
              "\n",
              "    .dataframe tbody tr th {\n",
              "        vertical-align: top;\n",
              "    }\n",
              "\n",
              "    .dataframe thead th {\n",
              "        text-align: right;\n",
              "    }\n",
              "</style>\n",
              "<table border=\"1\" class=\"dataframe\">\n",
              "  <thead>\n",
              "    <tr style=\"text-align: right;\">\n",
              "      <th></th>\n",
              "      <th>age</th>\n",
              "      <th>sex</th>\n",
              "      <th>bmi</th>\n",
              "      <th>children</th>\n",
              "      <th>smoker</th>\n",
              "      <th>region</th>\n",
              "      <th>charges</th>\n",
              "    </tr>\n",
              "  </thead>\n",
              "  <tbody>\n",
              "    <tr>\n",
              "      <th>0</th>\n",
              "      <td>19</td>\n",
              "      <td>female</td>\n",
              "      <td>27.900</td>\n",
              "      <td>0</td>\n",
              "      <td>yes</td>\n",
              "      <td>southwest</td>\n",
              "      <td>16884.92400</td>\n",
              "    </tr>\n",
              "    <tr>\n",
              "      <th>1</th>\n",
              "      <td>18</td>\n",
              "      <td>male</td>\n",
              "      <td>33.770</td>\n",
              "      <td>1</td>\n",
              "      <td>no</td>\n",
              "      <td>southeast</td>\n",
              "      <td>1725.55230</td>\n",
              "    </tr>\n",
              "    <tr>\n",
              "      <th>2</th>\n",
              "      <td>28</td>\n",
              "      <td>male</td>\n",
              "      <td>33.000</td>\n",
              "      <td>3</td>\n",
              "      <td>no</td>\n",
              "      <td>southeast</td>\n",
              "      <td>4449.46200</td>\n",
              "    </tr>\n",
              "    <tr>\n",
              "      <th>3</th>\n",
              "      <td>33</td>\n",
              "      <td>male</td>\n",
              "      <td>22.705</td>\n",
              "      <td>0</td>\n",
              "      <td>no</td>\n",
              "      <td>northwest</td>\n",
              "      <td>21984.47061</td>\n",
              "    </tr>\n",
              "    <tr>\n",
              "      <th>4</th>\n",
              "      <td>32</td>\n",
              "      <td>male</td>\n",
              "      <td>28.880</td>\n",
              "      <td>0</td>\n",
              "      <td>no</td>\n",
              "      <td>northwest</td>\n",
              "      <td>3866.85520</td>\n",
              "    </tr>\n",
              "  </tbody>\n",
              "</table>\n",
              "</div>"
            ],
            "text/plain": [
              "   age     sex     bmi  children smoker     region      charges\n",
              "0   19  female  27.900         0    yes  southwest  16884.92400\n",
              "1   18    male  33.770         1     no  southeast   1725.55230\n",
              "2   28    male  33.000         3     no  southeast   4449.46200\n",
              "3   33    male  22.705         0     no  northwest  21984.47061\n",
              "4   32    male  28.880         0     no  northwest   3866.85520"
            ]
          },
          "metadata": {
            "tags": []
          },
          "execution_count": 6
        }
      ]
    },
    {
      "cell_type": "markdown",
      "metadata": {
        "id": "2oRecAquV5rE"
      },
      "source": [
        "We're going to do a slight customization of the data, so that you every participant receives a slightly different version of the dataset. Fill in your name below as a string (enter at least 5 characters)"
      ]
    },
    {
      "cell_type": "code",
      "metadata": {
        "id": "1JsNKhbJV5rE"
      },
      "source": [
        "your_name = \"ayush\" # at least 5 characters"
      ],
      "execution_count": 9,
      "outputs": []
    },
    {
      "cell_type": "markdown",
      "metadata": {
        "id": "Z_nkj0EpV5rE"
      },
      "source": [
        "The `customize_dataset` function will customize the dataset slightly using your name as a source of random numbers."
      ]
    },
    {
      "cell_type": "code",
      "metadata": {
        "id": "_F3oS6hQV5rE"
      },
      "source": [
        "def customize_dataset(dataframe_raw, rand_str):\n",
        "    dataframe = dataframe_raw.copy(deep=True)\n",
        "    # drop some rows\n",
        "    dataframe = dataframe.sample(int(0.95*len(dataframe)), random_state=int(ord(rand_str[0])))\n",
        "    # scale input\n",
        "    dataframe.bmi = dataframe.bmi * ord(rand_str[1])/100.\n",
        "    # scale target\n",
        "    dataframe.charges = dataframe.charges * ord(rand_str[2])/100.\n",
        "    # drop column\n",
        "    if ord(rand_str[3]) % 2 == 1:\n",
        "        dataframe = dataframe.drop(['region'], axis=1)\n",
        "    return dataframe"
      ],
      "execution_count": 10,
      "outputs": []
    },
    {
      "cell_type": "code",
      "metadata": {
        "colab": {
          "base_uri": "https://localhost:8080/",
          "height": 204
        },
        "id": "s1G_4TZ4V5rE",
        "outputId": "4839e371-5082-4d94-b844-2f41100e67e1"
      },
      "source": [
        "dataframe = customize_dataset(dataframe_raw, your_name)\n",
        "dataframe.head()"
      ],
      "execution_count": 11,
      "outputs": [
        {
          "output_type": "execute_result",
          "data": {
            "text/html": [
              "<div>\n",
              "<style scoped>\n",
              "    .dataframe tbody tr th:only-of-type {\n",
              "        vertical-align: middle;\n",
              "    }\n",
              "\n",
              "    .dataframe tbody tr th {\n",
              "        vertical-align: top;\n",
              "    }\n",
              "\n",
              "    .dataframe thead th {\n",
              "        text-align: right;\n",
              "    }\n",
              "</style>\n",
              "<table border=\"1\" class=\"dataframe\">\n",
              "  <thead>\n",
              "    <tr style=\"text-align: right;\">\n",
              "      <th></th>\n",
              "      <th>age</th>\n",
              "      <th>sex</th>\n",
              "      <th>bmi</th>\n",
              "      <th>children</th>\n",
              "      <th>smoker</th>\n",
              "      <th>charges</th>\n",
              "    </tr>\n",
              "  </thead>\n",
              "  <tbody>\n",
              "    <tr>\n",
              "      <th>27</th>\n",
              "      <td>55</td>\n",
              "      <td>female</td>\n",
              "      <td>39.65775</td>\n",
              "      <td>2</td>\n",
              "      <td>no</td>\n",
              "      <td>14354.299732</td>\n",
              "    </tr>\n",
              "    <tr>\n",
              "      <th>997</th>\n",
              "      <td>63</td>\n",
              "      <td>female</td>\n",
              "      <td>44.58850</td>\n",
              "      <td>0</td>\n",
              "      <td>no</td>\n",
              "      <td>16248.923145</td>\n",
              "    </tr>\n",
              "    <tr>\n",
              "      <th>162</th>\n",
              "      <td>54</td>\n",
              "      <td>male</td>\n",
              "      <td>47.91600</td>\n",
              "      <td>1</td>\n",
              "      <td>no</td>\n",
              "      <td>12227.145840</td>\n",
              "    </tr>\n",
              "    <tr>\n",
              "      <th>824</th>\n",
              "      <td>60</td>\n",
              "      <td>male</td>\n",
              "      <td>29.42720</td>\n",
              "      <td>0</td>\n",
              "      <td>no</td>\n",
              "      <td>14652.617616</td>\n",
              "    </tr>\n",
              "    <tr>\n",
              "      <th>392</th>\n",
              "      <td>48</td>\n",
              "      <td>male</td>\n",
              "      <td>38.04845</td>\n",
              "      <td>1</td>\n",
              "      <td>no</td>\n",
              "      <td>10487.950843</td>\n",
              "    </tr>\n",
              "  </tbody>\n",
              "</table>\n",
              "</div>"
            ],
            "text/plain": [
              "     age     sex       bmi  children smoker       charges\n",
              "27    55  female  39.65775         2     no  14354.299732\n",
              "997   63  female  44.58850         0     no  16248.923145\n",
              "162   54    male  47.91600         1     no  12227.145840\n",
              "824   60    male  29.42720         0     no  14652.617616\n",
              "392   48    male  38.04845         1     no  10487.950843"
            ]
          },
          "metadata": {
            "tags": []
          },
          "execution_count": 11
        }
      ]
    },
    {
      "cell_type": "markdown",
      "metadata": {
        "id": "I_uTm6BmV5rF"
      },
      "source": [
        "Let us answer some basic questions about the dataset. \n",
        "\n",
        "\n",
        "**Q: How many rows does the dataset have?**"
      ]
    },
    {
      "cell_type": "code",
      "metadata": {
        "colab": {
          "base_uri": "https://localhost:8080/"
        },
        "id": "FfgQu5TnV5rF",
        "outputId": "df5b5791-9434-4820-f6eb-041b19149e02"
      },
      "source": [
        "num_rows = dataframe.shape[0]\n",
        "print(num_rows)"
      ],
      "execution_count": 16,
      "outputs": [
        {
          "output_type": "stream",
          "text": [
            "1271\n"
          ],
          "name": "stdout"
        }
      ]
    },
    {
      "cell_type": "markdown",
      "metadata": {
        "id": "3B4uekAcV5rF"
      },
      "source": [
        "**Q: How many columns doe the dataset have**"
      ]
    },
    {
      "cell_type": "code",
      "metadata": {
        "colab": {
          "base_uri": "https://localhost:8080/"
        },
        "id": "h-Zb6cNnV5rF",
        "outputId": "5f9cc46e-9dbb-4a54-ed5a-100c6a80676b"
      },
      "source": [
        "num_cols = dataframe.shape[1]\n",
        "print(num_cols)"
      ],
      "execution_count": 17,
      "outputs": [
        {
          "output_type": "stream",
          "text": [
            "6\n"
          ],
          "name": "stdout"
        }
      ]
    },
    {
      "cell_type": "markdown",
      "metadata": {
        "id": "M7FVzOqOV5rF"
      },
      "source": [
        "**Q: What are the column titles of the input variables?**"
      ]
    },
    {
      "cell_type": "code",
      "metadata": {
        "id": "tVJi9ZbHV5rG"
      },
      "source": [
        "input_cols = ['age', 'sex', 'bmi', 'children', 'smoker']"
      ],
      "execution_count": 20,
      "outputs": []
    },
    {
      "cell_type": "markdown",
      "metadata": {
        "id": "3s6e9PP4V5rG"
      },
      "source": [
        "**Q: Which of the input columns are non-numeric or categorial variables ?**\n",
        "\n",
        "Hint: `sex` is one of them. List the columns that are not numbers."
      ]
    },
    {
      "cell_type": "code",
      "metadata": {
        "id": "Nk_RRXDKV5rG"
      },
      "source": [
        "categorical_cols = ['sex', 'smoker']"
      ],
      "execution_count": 19,
      "outputs": []
    },
    {
      "cell_type": "markdown",
      "metadata": {
        "id": "toMbMHEdV5rG"
      },
      "source": [
        "**Q: What are the column titles of output/target variable(s)?**"
      ]
    },
    {
      "cell_type": "code",
      "metadata": {
        "id": "oaesnm7VV5rG"
      },
      "source": [
        "output_cols = ['charges']"
      ],
      "execution_count": 21,
      "outputs": []
    },
    {
      "cell_type": "markdown",
      "metadata": {
        "id": "qeUNKCNUV5rG"
      },
      "source": [
        "**Q: (Optional) What is the minimum, maximum and average value of the `charges` column? Can you show the distribution of values in a graph?**\n",
        "Use this data visualization cheatsheet for referece: https://jovian.ml/aakashns/dataviz-cheatsheet"
      ]
    },
    {
      "cell_type": "code",
      "metadata": {
        "colab": {
          "base_uri": "https://localhost:8080/",
          "height": 390
        },
        "id": "jbuq6fClV5rH",
        "outputId": "6a78f1c6-dd3e-416f-8fa4-6ef78b5ac1d6"
      },
      "source": [
        "minimum = dataframe.charges.min()\r\n",
        "maximum = dataframe.charges.max()\r\n",
        "average = dataframe.charges.mean()\r\n",
        "print(f\"The minimum, maximum & average value of charges is {minimum}, {maximum} & {average} respectively.\")\r\n",
        "\r\n",
        "g = sns.displot(dataframe.charges)\r\n",
        "g.fig.suptitle('Histogram')\r\n",
        "plt.show()"
      ],
      "execution_count": 55,
      "outputs": [
        {
          "output_type": "stream",
          "text": [
            "The minimum, maximum & average value of charges is 1312.592463, 74611.4007717 & 15577.608507718964 respectively.\n"
          ],
          "name": "stdout"
        },
        {
          "output_type": "display_data",
          "data": {
            "image/png": "[encoded data removed]",
            "text/plain": [
              "<Figure size 360x360 with 1 Axes>"
            ]
          },
          "metadata": {
            "tags": [],
            "needs_background": "light"
          }
        }
      ]
    },
    {
      "cell_type": "markdown",
      "metadata": {
        "id": "ET3zFOkdV5rH"
      },
      "source": [
        "Remember to commit your notebook to Jovian after every step, so that you don't lose your work."
      ]
    },
    {
      "cell_type": "code",
      "metadata": {
        "id": "OLUDhoHlV5rH"
      },
      "source": [
        "!pip install jovian --upgrade -q"
      ],
      "execution_count": 27,
      "outputs": []
    },
    {
      "cell_type": "code",
      "metadata": {
        "id": "o1rxGjkbV5rH"
      },
      "source": [
        "import jovian"
      ],
      "execution_count": 28,
      "outputs": []
    },
    {
      "cell_type": "code",
      "metadata": {
        "colab": {
          "base_uri": "https://localhost:8080/",
          "height": 103
        },
        "id": "NruHwlTlV5rH",
        "outputId": "6d4be47c-9fbc-48ba-e45e-b78c57836614"
      },
      "source": [
        "jovian.commit(project=project_name)"
      ],
      "execution_count": 56,
      "outputs": [
        {
          "output_type": "stream",
          "text": [
            "[jovian] Detected Colab notebook...\u001b[0m\n",
            "[jovian] Uploading colab notebook to Jovian...\u001b[0m\n",
            "[jovian] Capturing environment..\u001b[0m\n",
            "[jovian] Committed successfully! https://jovian.ai/ayushxx7/02-insurance-linear-regression\u001b[0m\n"
          ],
          "name": "stdout"
        },
        {
          "output_type": "execute_result",
          "data": {
            "application/vnd.google.colaboratory.intrinsic+json": {
              "type": "string"
            },
            "text/plain": [
              "'https://jovian.ai/ayushxx7/02-insurance-linear-regression'"
            ]
          },
          "metadata": {
            "tags": []
          },
          "execution_count": 56
        }
      ]
    },
    {
      "cell_type": "markdown",
      "metadata": {
        "id": "Ge2qDyZWV5rH"
      },
      "source": [
        "## Step 2: Prepare the dataset for training\n",
        "\n",
        "We need to convert the data from the Pandas dataframe into a PyTorch tensors for training. To do this, the first step is to convert it numpy arrays. If you've filled out `input_cols`, `categorial_cols` and `output_cols` correctly, this following function will perform the conversion to numpy arrays."
      ]
    },
    {
      "cell_type": "code",
      "metadata": {
        "id": "tujb9icbV5rI"
      },
      "source": [
        "def dataframe_to_arrays(dataframe):\n",
        "    # Make a copy of the original dataframe\n",
        "    dataframe1 = dataframe.copy(deep=True)\n",
        "    # Convert non-numeric categorical columns to numbers\n",
        "    for col in categorical_cols:\n",
        "        dataframe1[col] = dataframe1[col].astype('category').cat.codes\n",
        "    # Extract input & outupts as numpy arrays\n",
        "    inputs_array = dataframe1[input_cols].to_numpy()\n",
        "    targets_array = dataframe1[output_cols].to_numpy()\n",
        "    return inputs_array, targets_array"
      ],
      "execution_count": 32,
      "outputs": []
    },
    {
      "cell_type": "markdown",
      "metadata": {
        "id": "sTGd2J6nV5rI"
      },
      "source": [
        "Read through the [Pandas documentation](https://pandas.pydata.org/pandas-docs/stable/user_guide/categorical.html) to understand how we're converting categorical variables into numbers."
      ]
    },
    {
      "cell_type": "code",
      "metadata": {
        "colab": {
          "base_uri": "https://localhost:8080/"
        },
        "id": "TqIFhNqvV5rI",
        "outputId": "f5603d37-5fe0-465d-d8e4-ed23495441ab"
      },
      "source": [
        "inputs_array, targets_array = dataframe_to_arrays(dataframe)\n",
        "inputs_array, targets_array"
      ],
      "execution_count": 33,
      "outputs": [
        {
          "output_type": "execute_result",
          "data": {
            "text/plain": [
              "(array([[55.     ,  0.     , 39.65775,  2.     ,  0.     ],\n",
              "        [63.     ,  0.     , 44.5885 ,  0.     ,  0.     ],\n",
              "        [54.     ,  1.     , 47.916  ,  1.     ,  0.     ],\n",
              "        ...,\n",
              "        [58.     ,  1.     , 38.7321 ,  1.     ,  0.     ],\n",
              "        [32.     ,  0.     , 53.5062 ,  0.     ,  0.     ],\n",
              "        [35.     ,  1.     , 21.6106 ,  1.     ,  0.     ]]),\n",
              " array([[14354.2997325],\n",
              "        [16248.923145 ],\n",
              "        [12227.14584  ],\n",
              "        ...,\n",
              "        [13977.552303 ],\n",
              "        [ 4673.188026 ],\n",
              "        [ 5986.305468 ]]))"
            ]
          },
          "metadata": {
            "tags": []
          },
          "execution_count": 33
        }
      ]
    },
    {
      "cell_type": "markdown",
      "metadata": {
        "id": "2ZqA2VMnV5rJ"
      },
      "source": [
        "**Q: Convert the numpy arrays `inputs_array` and `targets_array` into PyTorch tensors. Make sure that the data type is `torch.float32`.**"
      ]
    },
    {
      "cell_type": "code",
      "metadata": {
        "id": "VESZsOnuV5rJ"
      },
      "source": [
        "inputs = torch.from_numpy(inputs_array)\n",
        "targets = torch.from_numpy(targets_array)"
      ],
      "execution_count": 35,
      "outputs": []
    },
    {
      "cell_type": "code",
      "metadata": {
        "colab": {
          "base_uri": "https://localhost:8080/"
        },
        "id": "1QK4kLjnV5rJ",
        "outputId": "2d95118c-8c70-4e80-befe-152de8c8c1c6"
      },
      "source": [
        "inputs.dtype, targets.dtype"
      ],
      "execution_count": 36,
      "outputs": [
        {
          "output_type": "execute_result",
          "data": {
            "text/plain": [
              "(torch.float64, torch.float64)"
            ]
          },
          "metadata": {
            "tags": []
          },
          "execution_count": 36
        }
      ]
    },
    {
      "cell_type": "markdown",
      "metadata": {
        "id": "3AOodConV5rJ"
      },
      "source": [
        "Next, we need to create PyTorch datasets & data loaders for training & validation. We'll start by creating a `TensorDataset`."
      ]
    },
    {
      "cell_type": "code",
      "metadata": {
        "id": "y73LLHxcV5rJ"
      },
      "source": [
        "dataset = TensorDataset(inputs, targets)"
      ],
      "execution_count": 57,
      "outputs": []
    },
    {
      "cell_type": "markdown",
      "metadata": {
        "id": "vupLrF4fV5rJ"
      },
      "source": [
        "**Q: Pick a number between `0.1` and `0.2` to determine the fraction of data that will be used for creating the validation set. Then use `random_split` to create training & validation datasets.**"
      ]
    },
    {
      "cell_type": "code",
      "metadata": {
        "id": "yTF66_BgV5rJ"
      },
      "source": [
        "val_percent = 0.2 # between 0.1 and 0.2\n",
        "val_size = int(num_rows * val_percent)\n",
        "train_size = num_rows - val_size\n",
        "\n",
        "\n",
        "train_ds, val_ds = torch.utils.data.random_split(dataset, [train_size, val_size]) # Use the random_split function to split dataset into 2 parts of the desired length"
      ],
      "execution_count": 59,
      "outputs": []
    },
    {
      "cell_type": "code",
      "metadata": {
        "colab": {
          "base_uri": "https://localhost:8080/"
        },
        "id": "jpas_ULEq0cf",
        "outputId": "c11f369a-2fa0-4371-f677-bce91f900791"
      },
      "source": [
        "print(len(train_ds), len(val_ds))\r\n",
        "print(train_size, val_size)"
      ],
      "execution_count": 62,
      "outputs": [
        {
          "output_type": "stream",
          "text": [
            "1017 254\n",
            "1017 254\n"
          ],
          "name": "stdout"
        }
      ]
    },
    {
      "cell_type": "markdown",
      "metadata": {
        "id": "JHhI7-6VV5rK"
      },
      "source": [
        "Finally, we can create data loaders for training & validation.\n",
        "\n",
        "**Q: Pick a batch size for the data loader.**"
      ]
    },
    {
      "cell_type": "code",
      "metadata": {
        "id": "AUx5qLTPV5rK"
      },
      "source": [
        "batch_size = 100"
      ],
      "execution_count": 64,
      "outputs": []
    },
    {
      "cell_type": "code",
      "metadata": {
        "id": "dO-yZ8PrV5rK"
      },
      "source": [
        "train_loader = DataLoader(train_ds, batch_size, shuffle=True)\n",
        "val_loader = DataLoader(val_ds, batch_size)"
      ],
      "execution_count": 65,
      "outputs": []
    },
    {
      "cell_type": "markdown",
      "metadata": {
        "id": "4Cno70TEV5rK"
      },
      "source": [
        "Let's look at a batch of data to verify everything is working fine so far."
      ]
    },
    {
      "cell_type": "code",
      "metadata": {
        "colab": {
          "base_uri": "https://localhost:8080/"
        },
        "id": "_YJhrcglV5rK",
        "outputId": "ac5d466f-8ff9-42dd-ed43-1d97804c9f48"
      },
      "source": [
        "for xb, yb in train_loader:\n",
        "    print(\"inputs:\", xb)\n",
        "    print(\"targets:\", yb)\n",
        "    break"
      ],
      "execution_count": 66,
      "outputs": [
        {
          "output_type": "stream",
          "text": [
            "inputs: tensor([[56.0000,  0.0000, 40.9222,  2.0000,  0.0000],\n",
            "        [25.0000,  1.0000, 40.7286,  4.0000,  0.0000],\n",
            "        [29.0000,  1.0000, 35.0598,  1.0000,  0.0000],\n",
            "        [25.0000,  0.0000, 41.7268,  0.0000,  0.0000],\n",
            "        [27.0000,  0.0000, 29.9475,  0.0000,  1.0000],\n",
            "        [63.0000,  0.0000, 26.2086,  0.0000,  0.0000],\n",
            "        [19.0000,  0.0000, 36.3242,  0.0000,  1.0000],\n",
            "        [32.0000,  0.0000, 38.1634,  1.0000,  0.0000],\n",
            "        [36.0000,  0.0000, 31.3390,  1.0000,  0.0000],\n",
            "        [55.0000,  1.0000, 39.5307,  1.0000,  0.0000],\n",
            "        [34.0000,  0.0000, 33.5412,  0.0000,  0.0000],\n",
            "        [25.0000,  1.0000, 31.2664,  1.0000,  0.0000],\n",
            "        [63.0000,  1.0000, 26.2086,  1.0000,  0.0000],\n",
            "        [53.0000,  0.0000, 27.6848,  1.0000,  1.0000],\n",
            "        [32.0000,  0.0000, 28.6165,  1.0000,  0.0000],\n",
            "        [28.0000,  1.0000, 27.2431,  2.0000,  0.0000],\n",
            "        [51.0000,  1.0000, 33.5654,  1.0000,  0.0000],\n",
            "        [58.0000,  1.0000, 38.7321,  1.0000,  0.0000],\n",
            "        [26.0000,  0.0000, 34.8299,  0.0000,  0.0000],\n",
            "        [49.0000,  0.0000, 37.2438,  1.0000,  0.0000],\n",
            "        [23.0000,  1.0000, 21.0358,  1.0000,  0.0000],\n",
            "        [24.0000,  0.0000, 32.1860,  0.0000,  0.0000],\n",
            "        [59.0000,  0.0000, 39.1980,  3.0000,  0.0000],\n",
            "        [19.0000,  0.0000, 37.0139,  2.0000,  0.0000],\n",
            "        [23.0000,  1.0000, 29.6571,  0.0000,  0.0000],\n",
            "        [40.0000,  0.0000, 39.9300,  3.0000,  0.0000],\n",
            "        [32.0000,  1.0000, 33.6804,  1.0000,  0.0000],\n",
            "        [36.0000,  0.0000, 32.5309,  0.0000,  0.0000],\n",
            "        [52.0000,  0.0000, 56.5675,  5.0000,  0.0000],\n",
            "        [47.0000,  1.0000, 34.1401,  4.0000,  0.0000],\n",
            "        [33.0000,  1.0000, 51.3766,  1.0000,  0.0000],\n",
            "        [40.0000,  0.0000, 30.8066,  1.0000,  0.0000],\n",
            "        [35.0000,  0.0000, 41.2670,  3.0000,  1.0000],\n",
            "        [53.0000,  1.0000, 37.7036,  1.0000,  0.0000],\n",
            "        [51.0000,  1.0000, 30.7340,  0.0000,  0.0000],\n",
            "        [19.0000,  1.0000, 21.1508,  0.0000,  0.0000],\n",
            "        [49.0000,  1.0000, 44.5885,  0.0000,  0.0000],\n",
            "        [25.0000,  0.0000, 36.6630,  0.0000,  0.0000],\n",
            "        [32.0000,  0.0000, 35.8039,  1.0000,  0.0000],\n",
            "        [18.0000,  1.0000, 26.0937,  0.0000,  1.0000],\n",
            "        [29.0000,  1.0000, 38.8531,  2.0000,  0.0000],\n",
            "        [19.0000,  0.0000, 26.2570,  0.0000,  1.0000],\n",
            "        [38.0000,  1.0000, 24.1395,  1.0000,  0.0000],\n",
            "        [46.0000,  1.0000, 30.0020,  3.0000,  0.0000],\n",
            "        [22.0000,  1.0000, 32.4764,  0.0000,  0.0000],\n",
            "        [51.0000,  0.0000, 44.8305,  3.0000,  1.0000],\n",
            "        [20.0000,  1.0000, 37.1288,  0.0000,  1.0000],\n",
            "        [42.0000,  1.0000, 37.8186,  0.0000,  0.0000],\n",
            "        [48.0000,  1.0000, 39.0830,  1.0000,  0.0000],\n",
            "        [26.0000,  1.0000, 36.3000,  1.0000,  0.0000],\n",
            "        [21.0000,  1.0000, 28.7375,  2.0000,  0.0000],\n",
            "        [35.0000,  1.0000, 21.6106,  1.0000,  0.0000],\n",
            "        [19.0000,  1.0000, 54.3048,  0.0000,  1.0000],\n",
            "        [39.0000,  1.0000, 31.7262,  1.0000,  0.0000],\n",
            "        [36.0000,  1.0000, 41.6603,  2.0000,  0.0000],\n",
            "        [51.0000,  1.0000, 51.9090,  2.0000,  1.0000],\n",
            "        [35.0000,  0.0000, 33.9102,  0.0000,  1.0000],\n",
            "        [25.0000,  0.0000, 29.4030,  3.0000,  0.0000],\n",
            "        [27.0000,  1.0000, 31.4963,  0.0000,  0.0000],\n",
            "        [18.0000,  0.0000, 44.5885,  0.0000,  0.0000],\n",
            "        [28.0000,  1.0000, 42.8764,  0.0000,  0.0000],\n",
            "        [49.0000,  1.0000, 43.3906,  0.0000,  0.0000],\n",
            "        [23.0000,  0.0000, 33.8800,  0.0000,  0.0000],\n",
            "        [52.0000,  0.0000, 45.4052,  2.0000,  0.0000],\n",
            "        [46.0000,  0.0000, 37.2680,  3.0000,  0.0000],\n",
            "        [34.0000,  1.0000, 25.8637,  0.0000,  0.0000],\n",
            "        [50.0000,  0.0000, 54.1414,  0.0000,  0.0000],\n",
            "        [26.0000,  0.0000, 23.9580,  1.0000,  0.0000],\n",
            "        [59.0000,  1.0000, 44.8910,  1.0000,  0.0000],\n",
            "        [47.0000,  0.0000, 43.5600,  1.0000,  0.0000],\n",
            "        [61.0000,  1.0000, 43.9230,  1.0000,  1.0000],\n",
            "        [28.0000,  0.0000, 40.0631,  0.0000,  0.0000],\n",
            "        [59.0000,  0.0000, 44.4857,  1.0000,  1.0000],\n",
            "        [61.0000,  0.0000, 25.5189,  0.0000,  0.0000],\n",
            "        [43.0000,  0.0000, 43.2212,  2.0000,  0.0000],\n",
            "        [23.0000,  0.0000, 34.2551,  0.0000,  1.0000],\n",
            "        [46.0000,  0.0000, 28.6226,  1.0000,  1.0000],\n",
            "        [50.0000,  1.0000, 41.3820,  2.0000,  1.0000],\n",
            "        [57.0000,  0.0000, 34.8299,  4.0000,  0.0000],\n",
            "        [42.0000,  1.0000, 44.9878,  2.0000,  0.0000],\n",
            "        [52.0000,  0.0000, 30.0806,  0.0000,  0.0000],\n",
            "        [49.0000,  1.0000, 31.2664,  1.0000,  0.0000],\n",
            "        [18.0000,  0.0000, 35.2896,  0.0000,  0.0000],\n",
            "        [44.0000,  1.0000, 37.9335,  1.0000,  1.0000],\n",
            "        [29.0000,  0.0000, 26.4385,  0.0000,  1.0000],\n",
            "        [21.0000,  1.0000, 31.4963,  0.0000,  0.0000],\n",
            "        [43.0000,  1.0000, 30.8792,  5.0000,  0.0000],\n",
            "        [26.0000,  0.0000, 51.3040,  1.0000,  0.0000],\n",
            "        [53.0000,  1.0000, 29.4272,  0.0000,  0.0000],\n",
            "        [23.0000,  0.0000, 44.3707,  2.0000,  1.0000],\n",
            "        [45.0000,  0.0000, 31.0970,  3.0000,  0.0000],\n",
            "        [43.0000,  1.0000, 39.4460,  2.0000,  0.0000],\n",
            "        [42.0000,  1.0000, 43.3180,  2.0000,  0.0000],\n",
            "        [47.0000,  0.0000, 54.8372,  1.0000,  0.0000],\n",
            "        [53.0000,  1.0000, 43.6810,  1.0000,  0.0000],\n",
            "        [38.0000,  0.0000, 33.6804,  2.0000,  0.0000],\n",
            "        [38.0000,  1.0000, 25.5552,  3.0000,  0.0000],\n",
            "        [46.0000,  0.0000, 40.4624,  1.0000,  0.0000],\n",
            "        [55.0000,  0.0000, 42.5920,  0.0000,  1.0000],\n",
            "        [54.0000,  0.0000, 56.5070,  2.0000,  0.0000]], dtype=torch.float64)\n",
            "targets: tensor([[14792.7520],\n",
            "        [ 5270.4550],\n",
            "        [ 4727.4532],\n",
            "        [ 3535.5167],\n",
            "        [19396.0020],\n",
            "        [16906.3296],\n",
            "        [38969.8344],\n",
            "        [ 6023.8065],\n",
            "        [ 6402.7653],\n",
            "        [12644.7590],\n",
            "        [ 5165.7358],\n",
            "        [ 3872.4573],\n",
            "        [16789.3296],\n",
            "        [27196.4045],\n",
            "        [20622.7002],\n",
            "        [ 5181.7988],\n",
            "        [11650.5343],\n",
            "        [13977.5523],\n",
            "        [ 3960.9170],\n",
            "        [11440.6662],\n",
            "        [ 3246.9748],\n",
            "        [ 3563.8925],\n",
            "        [17071.0395],\n",
            "        [28149.8258],\n",
            "        [ 2803.4322],\n",
            "        [ 8988.7239],\n",
            "        [ 5211.6511],\n",
            "        [ 6163.3472],\n",
            "        [14733.2654],\n",
            "        [12176.2904],\n",
            "        [13252.2564],\n",
            "        [ 8280.3116],\n",
            "        [46780.6084],\n",
            "        [12240.5159],\n",
            "        [10275.4887],\n",
            "        [ 1896.9680],\n",
            "        [ 9507.1679],\n",
            "        [ 3080.6006],\n",
            "        [ 5338.5253],\n",
            "        [16085.0106],\n",
            "        [ 5187.6816],\n",
            "        [16198.0720],\n",
            "        [ 6851.4059],\n",
            "        [11115.6705],\n",
            "        [ 1948.0495],\n",
            "        [54118.4816],\n",
            "        [39166.7061],\n",
            "        [ 7439.7684],\n",
            "        [10255.3413],\n",
            "        [ 3397.7830],\n",
            "        [ 3600.2017],\n",
            "        [ 5986.3055],\n",
            "        [46475.6131],\n",
            "        [ 7164.5755],\n",
            "        [ 6533.6377],\n",
            "        [55531.5860],\n",
            "        [23674.7801],\n",
            "        [ 5138.2328],\n",
            "        [ 3592.8462],\n",
            "        [ 1906.9052],\n",
            "        [ 3824.5506],\n",
            "        [ 9505.5578],\n",
            "        [15358.2126],\n",
            "        [39162.2071],\n",
            "        [11015.4564],\n",
            "        [ 5265.3969],\n",
            "        [11163.7838],\n",
            "        [ 3953.3247],\n",
            "        [14446.1912],\n",
            "        [10011.5812],\n",
            "        [55462.5396],\n",
            "        [ 3710.7894],\n",
            "        [56039.2459],\n",
            "        [15695.5946],\n",
            "        [22399.1545],\n",
            "        [21099.7424],\n",
            "        [25362.4216],\n",
            "        [50142.5005],\n",
            "        [16841.4458],\n",
            "        [ 8379.5543],\n",
            "        [31728.0527],\n",
            "        [10860.5023],\n",
            "        [ 8568.7697],\n",
            "        [46281.0986],\n",
            "        [18854.9063],\n",
            "        [ 2459.6497],\n",
            "        [16939.6463],\n",
            "        [ 3990.0791],\n",
            "        [11540.2620],\n",
            "        [45058.6051],\n",
            "        [10649.1037],\n",
            "        [ 8706.5562],\n",
            "        [ 8377.3100],\n",
            "        [10026.7383],\n",
            "        [11800.4398],\n",
            "        [ 8359.4893],\n",
            "        [ 7783.4587],\n",
            "        [ 9641.4898],\n",
            "        [51975.8495],\n",
            "        [13499.9526]], dtype=torch.float64)\n"
          ],
          "name": "stdout"
        }
      ]
    },
    {
      "cell_type": "markdown",
      "metadata": {
        "id": "mNx6Pz33V5rK"
      },
      "source": [
        "Let's save our work by committing to Jovian."
      ]
    },
    {
      "cell_type": "code",
      "metadata": {
        "colab": {
          "base_uri": "https://localhost:8080/",
          "height": 86
        },
        "id": "QFKMrAzdV5rL",
        "outputId": "f12d61e3-7b22-4b11-f6ae-262d587eb8e2"
      },
      "source": [
        "jovian.commit(project=project_name, environment=None)"
      ],
      "execution_count": 67,
      "outputs": [
        {
          "output_type": "stream",
          "text": [
            "[jovian] Detected Colab notebook...\u001b[0m\n",
            "[jovian] Uploading colab notebook to Jovian...\u001b[0m\n",
            "[jovian] Committed successfully! https://jovian.ai/ayushxx7/02-insurance-linear-regression\u001b[0m\n"
          ],
          "name": "stdout"
        },
        {
          "output_type": "execute_result",
          "data": {
            "application/vnd.google.colaboratory.intrinsic+json": {
              "type": "string"
            },
            "text/plain": [
              "'https://jovian.ai/ayushxx7/02-insurance-linear-regression'"
            ]
          },
          "metadata": {
            "tags": []
          },
          "execution_count": 67
        }
      ]
    },
    {
      "cell_type": "markdown",
      "metadata": {
        "id": "1SomqIMMV5rL"
      },
      "source": [
        "## Step 3: Create a Linear Regression Model\n",
        "\n",
        "Our model itself is a fairly straightforward linear regression (we'll build more complex models in the next assignment). \n"
      ]
    },
    {
      "cell_type": "code",
      "metadata": {
        "id": "CrxeilGXV5rL"
      },
      "source": [
        "input_size = len(input_cols)\n",
        "output_size = len(output_cols)"
      ],
      "execution_count": 69,
      "outputs": []
    },
    {
      "cell_type": "markdown",
      "metadata": {
        "id": "eGdmCM26V5rL"
      },
      "source": [
        "**Q: Complete the class definition below by filling out the constructor (`__init__`), `forward`, `training_step` and `validation_step` methods.**\n",
        "\n",
        "Hint: Think carefully about picking a good loss fuction (it's not cross entropy). Maybe try 2-3 of them and see which one works best. See https://pytorch.org/docs/stable/nn.functional.html#loss-functions"
      ]
    },
    {
      "cell_type": "code",
      "metadata": {
        "id": "fXF0RTANV5rL"
      },
      "source": [
        "class InsuranceModel(nn.Module):\n",
        "    def __init__(self):\n",
        "        super().__init__()\n",
        "        self.linear = ???                  # fill this (hint: use input_size & output_size defined above)\n",
        "        \n",
        "    def forward(self, xb):\n",
        "        out = ???                          # fill this\n",
        "        return out\n",
        "    \n",
        "    def training_step(self, batch):\n",
        "        inputs, targets = batch \n",
        "        # Generate predictions\n",
        "        out = self(inputs)          \n",
        "        # Calcuate loss\n",
        "        loss = ???                          # fill this\n",
        "        return loss\n",
        "    \n",
        "    def validation_step(self, batch):\n",
        "        inputs, targets = batch\n",
        "        # Generate predictions\n",
        "        out = self(inputs)\n",
        "        # Calculate loss\n",
        "        loss = ???                           # fill this    \n",
        "        return {'val_loss': loss.detach()}\n",
        "        \n",
        "    def validation_epoch_end(self, outputs):\n",
        "        batch_losses = [x['val_loss'] for x in outputs]\n",
        "        epoch_loss = torch.stack(batch_losses).mean()   # Combine losses\n",
        "        return {'val_loss': epoch_loss.item()}\n",
        "    \n",
        "    def epoch_end(self, epoch, result, num_epochs):\n",
        "        # Print result every 20th epoch\n",
        "        if (epoch+1) % 20 == 0 or epoch == num_epochs-1:\n",
        "            print(\"Epoch [{}], val_loss: {:.4f}\".format(epoch+1, result['val_loss']))"
      ],
      "execution_count": null,
      "outputs": []
    },
    {
      "cell_type": "markdown",
      "metadata": {
        "id": "X9l2e5QOV5rL"
      },
      "source": [
        "Let us create a model using the `InsuranceModel` class. You may need to come back later and re-run the next cell to reinitialize the model, in case the loss becomes `nan` or `infinity`."
      ]
    },
    {
      "cell_type": "code",
      "metadata": {
        "id": "GZSNMGz8V5rM"
      },
      "source": [
        "model = InsuranceModel()"
      ],
      "execution_count": null,
      "outputs": []
    },
    {
      "cell_type": "markdown",
      "metadata": {
        "id": "LoxYRXPuV5rM"
      },
      "source": [
        "Let's check out the weights and biases of the model using `model.parameters`."
      ]
    },
    {
      "cell_type": "code",
      "metadata": {
        "id": "9gUVtjIQV5rM"
      },
      "source": [
        "list(model.parameters())"
      ],
      "execution_count": null,
      "outputs": []
    },
    {
      "cell_type": "markdown",
      "metadata": {
        "id": "K4OSvvf0V5rM"
      },
      "source": [
        "One final commit before we train the model."
      ]
    },
    {
      "cell_type": "code",
      "metadata": {
        "id": "PHP61i92V5rM"
      },
      "source": [
        "jovian.commit(project=project_name, environment=None)"
      ],
      "execution_count": null,
      "outputs": []
    },
    {
      "cell_type": "markdown",
      "metadata": {
        "id": "kZgtF441V5rN"
      },
      "source": [
        "## Step 4: Train the model to fit the data\n",
        "\n",
        "To train our model, we'll use the same `fit` function explained in the lecture. That's the benefit of defining a generic training loop - you can use it for any problem."
      ]
    },
    {
      "cell_type": "code",
      "metadata": {
        "id": "YkUA1aGMV5rN"
      },
      "source": [
        "def evaluate(model, val_loader):\n",
        "    outputs = [model.validation_step(batch) for batch in val_loader]\n",
        "    return model.validation_epoch_end(outputs)\n",
        "\n",
        "def fit(epochs, lr, model, train_loader, val_loader, opt_func=torch.optim.SGD):\n",
        "    history = []\n",
        "    optimizer = opt_func(model.parameters(), lr)\n",
        "    for epoch in range(epochs):\n",
        "        # Training Phase \n",
        "        for batch in train_loader:\n",
        "            loss = model.training_step(batch)\n",
        "            loss.backward()\n",
        "            optimizer.step()\n",
        "            optimizer.zero_grad()\n",
        "        # Validation phase\n",
        "        result = evaluate(model, val_loader)\n",
        "        model.epoch_end(epoch, result, epochs)\n",
        "        history.append(result)\n",
        "    return history"
      ],
      "execution_count": null,
      "outputs": []
    },
    {
      "cell_type": "markdown",
      "metadata": {
        "id": "VPwz3io1V5rN"
      },
      "source": [
        "**Q: Use the `evaluate` function to calculate the loss on the validation set before training.**"
      ]
    },
    {
      "cell_type": "code",
      "metadata": {
        "id": "X4dUCsmbV5rN"
      },
      "source": [
        "result = ??? # Use the the evaluate function\n",
        "print(result)"
      ],
      "execution_count": null,
      "outputs": []
    },
    {
      "cell_type": "markdown",
      "metadata": {
        "id": "6T4yPd0JV5rN"
      },
      "source": [
        "\n",
        "We are now ready to train the model. You may need to run the training loop many times, for different number of epochs and with different learning rates, to get a good result. Also, if your loss becomes too large (or `nan`), you may have to re-initialize the model by running the cell `model = InsuranceModel()`. Experiment with this for a while, and try to get to as low a loss as possible."
      ]
    },
    {
      "cell_type": "markdown",
      "metadata": {
        "id": "i8UAi4nEV5rN"
      },
      "source": [
        "**Q: Train the model 4-5 times with different learning rates & for different number of epochs.**\n",
        "\n",
        "Hint: Vary learning rates by orders of 10 (e.g. `1e-2`, `1e-3`, `1e-4`, `1e-5`, `1e-6`) to figure out what works."
      ]
    },
    {
      "cell_type": "code",
      "metadata": {
        "id": "IviDloNTV5rN"
      },
      "source": [
        "epochs = ???\n",
        "lr = ???\n",
        "history1 = fit(epochs, lr, model, train_loader, val_loader)"
      ],
      "execution_count": null,
      "outputs": []
    },
    {
      "cell_type": "code",
      "metadata": {
        "id": "k9QneyHAV5rO"
      },
      "source": [
        "epochs = ???\n",
        "lr = ???\n",
        "history2 = fit(epochs, lr, model, train_loader, val_loader)"
      ],
      "execution_count": null,
      "outputs": []
    },
    {
      "cell_type": "code",
      "metadata": {
        "id": "BN23-DAKV5rO"
      },
      "source": [
        "epochs = ???\n",
        "lr = ???\n",
        "history3 = fit(epochs, lr, model, train_loader, val_loader)"
      ],
      "execution_count": null,
      "outputs": []
    },
    {
      "cell_type": "code",
      "metadata": {
        "id": "IxXD_t03V5rO"
      },
      "source": [
        "epochs = ???\n",
        "lr = ???\n",
        "history4 = fit(epochs, lr, model, train_loader, val_loader)"
      ],
      "execution_count": null,
      "outputs": []
    },
    {
      "cell_type": "code",
      "metadata": {
        "id": "JqISBcuSV5rO"
      },
      "source": [
        "epochs = ???\n",
        "lr = ???\n",
        "history5 = fit(epochs, lr, model, train_loader, val_loader)"
      ],
      "execution_count": null,
      "outputs": []
    },
    {
      "cell_type": "markdown",
      "metadata": {
        "id": "PcF2PNjLV5rO"
      },
      "source": [
        "**Q: What is the final validation loss of your model?**"
      ]
    },
    {
      "cell_type": "code",
      "metadata": {
        "id": "wJ3bf97IV5rO"
      },
      "source": [
        "val_loss = ???"
      ],
      "execution_count": null,
      "outputs": []
    },
    {
      "cell_type": "markdown",
      "metadata": {
        "id": "v1HfQhacV5rO"
      },
      "source": [
        "Let's log the final validation loss to Jovian and commit the notebook"
      ]
    },
    {
      "cell_type": "code",
      "metadata": {
        "id": "rluDi-agV5rP"
      },
      "source": [
        "jovian.log_metrics(val_loss=val_loss)"
      ],
      "execution_count": null,
      "outputs": []
    },
    {
      "cell_type": "code",
      "metadata": {
        "id": "k2SItZNJV5rP"
      },
      "source": [
        "jovian.commit(project=project_name, environment=None)"
      ],
      "execution_count": null,
      "outputs": []
    },
    {
      "cell_type": "markdown",
      "metadata": {
        "id": "m1RDIO_wV5rP"
      },
      "source": [
        "Now scroll back up, re-initialize the model, and try different set of values for batch size, number of epochs, learning rate etc. Commit each experiment and use the \"Compare\" and \"View Diff\" options on Jovian to compare the different results."
      ]
    },
    {
      "cell_type": "markdown",
      "metadata": {
        "id": "X7BBN95mV5rP"
      },
      "source": [
        "## Step 5: Make predictions using the trained model\n",
        "\n",
        "**Q: Complete the following function definition to make predictions on a single input**"
      ]
    },
    {
      "cell_type": "code",
      "metadata": {
        "id": "wPgsq8VSV5rP"
      },
      "source": [
        "def predict_single(input, target, model):\n",
        "    inputs = input.unsqueeze(0)\n",
        "    predictions = ???                # fill this\n",
        "    prediction = predictions[0].detach()\n",
        "    print(\"Input:\", input)\n",
        "    print(\"Target:\", target)\n",
        "    print(\"Prediction:\", prediction)"
      ],
      "execution_count": null,
      "outputs": []
    },
    {
      "cell_type": "code",
      "metadata": {
        "id": "kpgxP1MvV5rP"
      },
      "source": [
        "input, target = val_ds[0]\n",
        "predict_single(input, target, model)"
      ],
      "execution_count": null,
      "outputs": []
    },
    {
      "cell_type": "code",
      "metadata": {
        "id": "kaE2gVFNV5rP"
      },
      "source": [
        "input, target = val_ds[10]\n",
        "predict_single(input, target, model)"
      ],
      "execution_count": null,
      "outputs": []
    },
    {
      "cell_type": "code",
      "metadata": {
        "id": "gofqBzt3V5rP"
      },
      "source": [
        "input, target = val_ds[23]\n",
        "predict_single(input, target, model)"
      ],
      "execution_count": null,
      "outputs": []
    },
    {
      "cell_type": "markdown",
      "metadata": {
        "id": "PhRidByzV5rQ"
      },
      "source": [
        "Are you happy with your model's predictions? Try to improve them further."
      ]
    },
    {
      "cell_type": "markdown",
      "metadata": {
        "id": "DwpgoHDTV5rQ"
      },
      "source": [
        "## (Optional) Step 6: Try another dataset & blog about it\n",
        "\n",
        "While this last step is optional for the submission of your assignment, we highly recommend that you do it. Try to replicate this notebook for a different linear regression or logistic regression problem. This will help solidify your understanding, and give you a chance to differentiate the generic patterns in machine learning from problem-specific details.You can use one of these starer notebooks (just change the dataset):\n",
        "\n",
        "- Linear regression (minimal): https://jovian.ai/aakashns/housing-linear-minimal\n",
        "- Logistic regression (minimal): https://jovian.ai/aakashns/mnist-logistic-minimal\n",
        "\n",
        "Here are some sources to find good datasets:\n",
        "\n",
        "- https://lionbridge.ai/datasets/10-open-datasets-for-linear-regression/\n",
        "- https://www.kaggle.com/rtatman/datasets-for-regression-analysis\n",
        "- https://archive.ics.uci.edu/ml/datasets.php?format=&task=reg&att=&area=&numAtt=&numIns=&type=&sort=nameUp&view=table\n",
        "- https://people.sc.fsu.edu/~jburkardt/datasets/regression/regression.html\n",
        "- https://archive.ics.uci.edu/ml/datasets/wine+quality\n",
        "- https://pytorch.org/docs/stable/torchvision/datasets.html\n",
        "\n",
        "We also recommend that you write a blog about your approach to the problem. Here is a suggested structure for your post (feel free to experiment with it):\n",
        "\n",
        "- Interesting title & subtitle\n",
        "- Overview of what the blog covers (which dataset, linear regression or logistic regression, intro to PyTorch)\n",
        "- Downloading & exploring the data\n",
        "- Preparing the data for training\n",
        "- Creating a model using PyTorch\n",
        "- Training the model to fit the data\n",
        "- Your thoughts on how to experiment with different hyperparmeters to reduce loss\n",
        "- Making predictions using the model\n",
        "\n",
        "As with the previous assignment, you can [embed Juptyer notebook cells & outputs from Jovian](https://medium.com/jovianml/share-and-embed-jupyter-notebooks-online-with-jovian-ml-df709a03064e) into your blog. \n",
        "\n",
        "Don't forget to share your work on the forum: https://jovian.ai/forum/t/linear-regression-and-logistic-regression-notebooks-and-blog-posts/14039"
      ]
    },
    {
      "cell_type": "code",
      "metadata": {
        "id": "4EhUf38WV5rQ",
        "outputId": "01764e25-5688-4009-bb7d-ca2ded63fec5"
      },
      "source": [
        "jovian.commit(project=project_name, environment=None)\n",
        "jovian.commit(project=project_name, environment=None) # try again, kaggle fails sometimes"
      ],
      "execution_count": null,
      "outputs": [
        {
          "output_type": "display_data",
          "data": {
            "application/javascript": [
              "window.require && require([\"base/js/namespace\"],function(Jupyter){Jupyter.notebook.save_checkpoint()})"
            ],
            "text/plain": [
              "<IPython.core.display.Javascript object>"
            ]
          },
          "metadata": {
            "tags": []
          }
        },
        {
          "output_type": "stream",
          "text": [
            "[jovian] Attempting to save notebook..\u001b[0m\n",
            "[jovian] Updating notebook \"aakashns/02-insurance-linear-regression\" on https://jovian.ai/\u001b[0m\n",
            "[jovian] Uploading notebook..\u001b[0m\n",
            "[jovian] Committed successfully! https://jovian.ai/aakashns/02-insurance-linear-regression\u001b[0m\n"
          ],
          "name": "stdout"
        },
        {
          "output_type": "display_data",
          "data": {
            "application/javascript": [
              "window.require && require([\"base/js/namespace\"],function(Jupyter){Jupyter.notebook.save_checkpoint()})"
            ],
            "text/plain": [
              "<IPython.core.display.Javascript object>"
            ]
          },
          "metadata": {
            "tags": []
          }
        },
        {
          "output_type": "stream",
          "text": [
            "[jovian] Attempting to save notebook..\u001b[0m\n"
          ],
          "name": "stdout"
        }
      ]
    },
    {
      "cell_type": "code",
      "metadata": {
        "id": "wwGC8eKdV5rQ"
      },
      "source": [
        ""
      ],
      "execution_count": null,
      "outputs": []
    }
  ]
}