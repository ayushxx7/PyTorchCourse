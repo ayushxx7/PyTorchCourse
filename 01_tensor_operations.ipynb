{
  "nbformat": 4,
  "nbformat_minor": 0,
  "metadata": {
    "kernelspec": {
      "display_name": "Python 3",
      "language": "python",
      "name": "python3"
    },
    "language_info": {
      "codemirror_mode": {
        "name": "ipython",
        "version": 3
      },
      "file_extension": ".py",
      "mimetype": "text/x-python",
      "name": "python",
      "nbconvert_exporter": "python",
      "pygments_lexer": "ipython3",
      "version": "3.8.5"
    },
    "colab": {
      "name": "01-tensor-operations.ipynb",
      "provenance": [],
      "include_colab_link": true
    }
  },
  "cells": [
    {
      "cell_type": "markdown",
      "metadata": {
        "id": "view-in-github",
        "colab_type": "text"
      },
      "source": [
        "<a href=\"https://colab.research.google.com/github/ayushxx7/PyTorchCourse/blob/master/01_tensor_operations.ipynb\" target=\"_parent\"><img src=\"https://colab.research.google.com/assets/colab-badge.svg\" alt=\"Open In Colab\"/></a>"
      ]
    },
    {
      "cell_type": "code",
      "metadata": {
        "id": "cpEoYYdLknIV",
        "colab": {
          "base_uri": "https://localhost:8080/"
        },
        "outputId": "5802c218-5c0f-46aa-e9a4-b2a3fde7b1f1"
      },
      "source": [
        "# Jovian Commit Essentials\n",
        "# Please retain and execute this cell without modifying the contents for `jovian.commit` to work\n",
        "!pip install jovian --upgrade -q\n",
        "import jovian\n",
        "jovian.utils.colab.set_colab_file_id('1Cc2f-g35_V81GwETV_LZ8Ja6u_TQOEtA')"
      ],
      "execution_count": 1,
      "outputs": [
        {
          "output_type": "stream",
          "text": [
            "\u001b[?25l\r\u001b[K     |█████                           | 10kB 21.8MB/s eta 0:00:01\r\u001b[K     |██████████                      | 20kB 25.4MB/s eta 0:00:01\r\u001b[K     |██████████████▉                 | 30kB 12.6MB/s eta 0:00:01\r\u001b[K     |███████████████████▉            | 40kB 9.4MB/s eta 0:00:01\r\u001b[K     |████████████████████████▉       | 51kB 4.6MB/s eta 0:00:01\r\u001b[K     |█████████████████████████████▊  | 61kB 5.0MB/s eta 0:00:01\r\u001b[K     |████████████████████████████████| 71kB 3.4MB/s \n",
            "\u001b[?25h  Building wheel for uuid (setup.py) ... \u001b[?25l\u001b[?25hdone\n"
          ],
          "name": "stdout"
        }
      ]
    },
    {
      "cell_type": "markdown",
      "metadata": {
        "id": "1HI6sWz-knIW"
      },
      "source": [
        "> ### Assignment Instructions (delete this cell before submission)\n",
        "> \n",
        "> The objective of this assignment is to develop a solid understanding of PyTorch tensors. In this assignment you will:\n",
        ">\n",
        "> 1. Pick 5 interesting functions related to PyTorch tensors by [reading the documentation](https://pytorch.org/docs/stable/torch.html), \n",
        "> 2. Edit this starter template notebook to illustrate their usage and publish your notebook to Jovian using `jovian.commit`. Make sure to add proper explanations too, not just code.\n",
        "> 3. Submit the link to your published notebook on Jovian here: https://jovian.ai/learn/deep-learning-with-pytorch-zero-to-gans/assignment/assignment-1-all-about-torch-tensor .\n",
        "> 4. (Optional) Write a blog post on [Medium](https://medium.com) to accompany and showcase your Jupyter notebook. [Embed cells from your notebook](https://medium.com/@aakashns/share-and-embed-jupyter-notebooks-online-with-jovian-ml-df709a03064e) wherever necessary.\n",
        "> 5. (Optional) [Share your work](https://jovian.ai/forum/t/pytorch-functions-and-tensor-operations/13790) with the community and exchange feedback with other participants\n",
        ">\n",
        ">\n",
        "> The recommended way to run this notebook is to click the \"Run\" button at the top of this page, and select \"Run on Colab\". Run `jovian.commit` regularly to save your progress.\n",
        "> \n",
        "> Try to give your notebook an interesting title e.g. \"All about PyTorch tensor operations\", \"5 PyTorch functions you didn't know you needed\", \"A beginner's guide to Autograd in PyToch\", \"Interesting ways to create PyTorch tensors\", \"Trigonometic functions in PyTorch\", \"How to use PyTorch tensors for Linear Algebra\" etc.\n",
        ">\n",
        "> **IMPORTANT NOTE**: Make sure to submit a Jovian notebook link e.g. https://jovian.ai/aakashns/01-tensor-operations . Colab links will not be accepted.\n",
        ">\n",
        "> Remove this cell containing instructions before making a submission or sharing your notebook, to make it more presentable.\n",
        ">\n",
        "\n"
      ]
    },
    {
      "cell_type": "markdown",
      "metadata": {
        "id": "Fu70xtykknIW"
      },
      "source": [
        "# 5 Powerful PyTorch functions\n",
        "\n",
        "**Deep learning** is the process of analyzing data and generating relevant models out of it (It is a subset of Machine Learning). We essentially provide a data set to the machine, which then performs some rigorous computations to generate a prediction model. **The prediction model can then be used on a different dataset to (you guessed it) predict the output.** PyTorch is a library that helps us in for deep learning. In essence, the PyTorch library provides us access to a n-dimensional array of `tensors` on which we can perform computations (such as add, subtract, multiply, gradient descent etc.). The multi-dimensional is similary to `numpy` in many ways, however, it is heavily optimized to harness the power of the GPU.\n",
        "\n",
        "- function 1\n",
        "- function 2\n",
        "- function 3\n",
        "- function 4\n",
        "- function 5\n",
        "\n",
        "Before we begin, let's install and import PyTorch"
      ]
    },
    {
      "cell_type": "code",
      "metadata": {
        "id": "pLHKvqPBknIW"
      },
      "source": [
        "# Uncomment and run the appropriate command for your operating system, if required\n",
        "\n",
        "# Linux / Binder\n",
        "# !pip install numpy torch==1.7.0+cpu torchvision==0.8.1+cpu torchaudio==0.7.0 -f https://download.pytorch.org/whl/torch_stable.html\n",
        "\n",
        "# Windows\n",
        "!pip install numpy torch==1.7.0+cpu torchvision==0.8.1+cpu torchaudio==0.7.0 -f https://download.pytorch.org/whl/torch_stable.html\n",
        "\n",
        "# MacOS\n",
        "# !pip install numpy torch torchvision torchaudio"
      ],
      "execution_count": 1,
      "outputs": []
    },
    {
      "cell_type": "code",
      "metadata": {
        "id": "o9g7oLeiknIW"
      },
      "source": [
        "# Import torch and other required modules\n",
        "import torch"
      ],
      "execution_count": 2,
      "outputs": []
    },
    {
      "cell_type": "markdown",
      "metadata": {
        "id": "zLdUC1FSknIW"
      },
      "source": [
        "## Function 1 - torch.zeros\n",
        "\n",
        "\n",
        "\n",
        "Create a tensor filled with zeros"
      ]
    },
    {
      "cell_type": "code",
      "metadata": {
        "id": "iz2AKjeDknIW",
        "colab": {
          "base_uri": "https://localhost:8080/"
        },
        "outputId": "f9a856ba-eb24-465b-f326-d3ba61c92132"
      },
      "source": [
        "#Example 1\n",
        "torch.zeros(2)"
      ],
      "execution_count": null,
      "outputs": [
        {
          "output_type": "execute_result",
          "data": {
            "text/plain": [
              "tensor([0., 0.])"
            ]
          },
          "metadata": {
            "tags": []
          },
          "execution_count": 10
        }
      ]
    },
    {
      "cell_type": "markdown",
      "metadata": {
        "id": "Mkj4q9Uyj7Rc"
      },
      "source": [
        "Zero filled tensor can be easily created using the torch.zeros function. If we don't pass any dtype, the type is interpreted as float by default."
      ]
    },
    {
      "cell_type": "markdown",
      "metadata": {
        "id": "3X6JnZEuknIX"
      },
      "source": [
        "Explanation about example"
      ]
    },
    {
      "cell_type": "code",
      "metadata": {
        "id": "ngjR6_78knIX",
        "colab": {
          "base_uri": "https://localhost:8080/"
        },
        "outputId": "b3d60386-0a5b-436b-cd05-e9c029bc55d8"
      },
      "source": [
        "# Example 2\r\n",
        "torch.zeros([3,4], dtype=int)"
      ],
      "execution_count": null,
      "outputs": [
        {
          "output_type": "execute_result",
          "data": {
            "text/plain": [
              "tensor([[0, 0, 0, 0],\n",
              "        [0, 0, 0, 0],\n",
              "        [0, 0, 0, 0]])"
            ]
          },
          "metadata": {
            "tags": []
          },
          "execution_count": 14
        }
      ]
    },
    {
      "cell_type": "markdown",
      "metadata": {
        "id": "nDR1dk0_knIX"
      },
      "source": [
        "A list of dimensions can be passed to create a zero filled tensor with multiple dimensions. We are also setting the datatype so the zeros are integers and not floats."
      ]
    },
    {
      "cell_type": "code",
      "metadata": {
        "id": "l66zAERLknIX",
        "colab": {
          "base_uri": "https://localhost:8080/"
        },
        "outputId": "a23d1f47-5a93-480a-9326-fe84f39653d6"
      },
      "source": [
        "# Example 3 - breaking (to illustrate when it breaks)\n",
        "torch.zeros([3,4], dtype=float, requires_grad=True)"
      ],
      "execution_count": null,
      "outputs": [
        {
          "output_type": "execute_result",
          "data": {
            "text/plain": [
              "tensor([[0., 0., 0., 0.],\n",
              "        [0., 0., 0., 0.],\n",
              "        [0., 0., 0., 0.]], dtype=torch.float64, requires_grad=True)"
            ]
          },
          "metadata": {
            "tags": []
          },
          "execution_count": 13
        }
      ]
    },
    {
      "cell_type": "markdown",
      "metadata": {
        "id": "t9AAIYSbknIX"
      },
      "source": [
        "Only tensors which have the dtype float can have the gradients calculated. This is why, when we specify dtype as int and set the requires_gradient param to True the function breaks.\r\n"
      ]
    },
    {
      "cell_type": "markdown",
      "metadata": {
        "id": "xJEvJqOeknIX"
      },
      "source": [
        "This function should be called when,\r\n",
        "- you need a zero filled tensor\r\n",
        "- you need to initialize a tensor whose values will be filled later on"
      ]
    },
    {
      "cell_type": "markdown",
      "metadata": {
        "id": "H3jOw6eiknIX"
      },
      "source": [
        "Let's save our work using Jovian before continuing."
      ]
    },
    {
      "cell_type": "code",
      "metadata": {
        "id": "3vNDHQJpknIX"
      },
      "source": [
        "!pip install jovian --upgrade --quiet"
      ],
      "execution_count": null,
      "outputs": []
    },
    {
      "cell_type": "code",
      "metadata": {
        "id": "cLnY491vknIX"
      },
      "source": [
        "import jovian"
      ],
      "execution_count": null,
      "outputs": []
    },
    {
      "cell_type": "code",
      "metadata": {
        "id": "7bciCMUVknIX",
        "colab": {
          "base_uri": "https://localhost:8080/",
          "height": 137
        },
        "outputId": "60c0947a-4326-4725-e36e-8b2a65093fe6"
      },
      "source": [
        "jovian.commit(project='01-tensor-operations')"
      ],
      "execution_count": null,
      "outputs": [
        {
          "output_type": "stream",
          "text": [
            "[jovian] Detected Colab notebook...\u001b[0m\n",
            "[jovian] Please enter your API key ( from https://jovian.ai/ ):\u001b[0m\n",
            "API KEY: ··········\n",
            "[jovian] Uploading colab notebook to Jovian...\u001b[0m\n",
            "[jovian] Capturing environment..\u001b[0m\n",
            "[jovian] Committed successfully! https://jovian.ai/ayushxx7/01-tensor-operations\u001b[0m\n"
          ],
          "name": "stdout"
        },
        {
          "output_type": "execute_result",
          "data": {
            "application/vnd.google.colaboratory.intrinsic+json": {
              "type": "string"
            },
            "text/plain": [
              "'https://jovian.ai/ayushxx7/01-tensor-operations'"
            ]
          },
          "metadata": {
            "tags": []
          },
          "execution_count": 17
        }
      ]
    },
    {
      "cell_type": "markdown",
      "metadata": {
        "id": "pMmC8m3TknIX"
      },
      "source": [
        "## Function 2 - torch.sparse\n",
        "\n",
        "Sparse matrices are those matrices where most of the elements are 0s and there are only few other values. Torch provides support for such matrices."
      ]
    },
    {
      "cell_type": "code",
      "metadata": {
        "id": "2rOsFqCJknIX",
        "colab": {
          "base_uri": "https://localhost:8080/"
        },
        "outputId": "45a780ae-4502-4186-c008-a67b2cbda919"
      },
      "source": [
        "# Example 1 - working\r\n",
        "indexTensor = torch.LongTensor([[1, 0, 1],\r\n",
        "                                [2, 2, 3]\r\n",
        "                               ])\r\n",
        "valueTensor = torch.FloatTensor([7, 8, 9])\r\n",
        "sparseTensor = torch.sparse.FloatTensor(indexTensor, valueTensor, torch.Size([4, 4])).to_dense()\r\n",
        "print(sparseTensor)"
      ],
      "execution_count": 14,
      "outputs": [
        {
          "output_type": "stream",
          "text": [
            "tensor([[0., 0., 8., 0.],\n",
            "        [0., 0., 7., 9.],\n",
            "        [0., 0., 0., 0.],\n",
            "        [0., 0., 0., 0.]])\n"
          ],
          "name": "stdout"
        }
      ]
    },
    {
      "cell_type": "markdown",
      "metadata": {
        "id": "OQ9rfeRRknIX"
      },
      "source": [
        "Sparse tensor is a combination of dense tensor + index tensor (2D tensor which represents the index at which values will be placed in the sparse matrix). A size parameter is also requried, which will generate the matrix of desired size (ex: here we create a 4x4 matrix using torch.Size)"
      ]
    },
    {
      "cell_type": "code",
      "metadata": {
        "id": "0mpQ04QlknIX",
        "colab": {
          "base_uri": "https://localhost:8080/"
        },
        "outputId": "9b3eed06-5833-4db1-c994-dcd59f23ea66"
      },
      "source": [
        "# Example 2 - working\r\n",
        "indexTensorList = torch.LongTensor(([1,2], [0,2], [1, 3]))\r\n",
        "valueTensor = torch.FloatTensor([17, 18, 19])\r\n",
        "sparseTensor = torch.sparse.FloatTensor(indexTensorList.t(), valueTensor, torch.Size([4, 4])).to_dense()\r\n",
        "print(sparseTensor)"
      ],
      "execution_count": 18,
      "outputs": [
        {
          "output_type": "stream",
          "text": [
            "tensor([[ 0.,  0., 18.,  0.],\n",
            "        [ 0.,  0., 17., 19.],\n",
            "        [ 0.,  0.,  0.,  0.],\n",
            "        [ 0.,  0.,  0.,  0.]])\n"
          ],
          "name": "stdout"
        }
      ]
    },
    {
      "cell_type": "markdown",
      "metadata": {
        "id": "9FHpKHQlknIX"
      },
      "source": [
        "Instead of passing a 2D matrix that would populate the index, we can also create a list of indexes. In such a scenario, we would need to transpose the list using the `.t()` function."
      ]
    },
    {
      "cell_type": "code",
      "metadata": {
        "id": "Mzy-Vyp1knIX",
        "colab": {
          "base_uri": "https://localhost:8080/",
          "height": 214
        },
        "outputId": "de84b94b-ba30-4136-d0b2-fddef3d387a3"
      },
      "source": [
        "# Example 3 - breaking (to illustrate when it breaks)\r\n",
        "indexTensorList = torch.LongTensor(([1,2], [0,2], [1, 3]))\r\n",
        "valueTensor = torch.FloatTensor([17, 18, 19])\r\n",
        "sparseTensor = torch.sparse.FloatTensor(indexTensorList.t(), valueTensor, torch.Size([3, 3])).to_dense()\r\n",
        "print(sparseTensor)"
      ],
      "execution_count": 19,
      "outputs": [
        {
          "output_type": "error",
          "ename": "RuntimeError",
          "evalue": "ignored",
          "traceback": [
            "\u001b[0;31m---------------------------------------------------------------------------\u001b[0m",
            "\u001b[0;31mRuntimeError\u001b[0m                              Traceback (most recent call last)",
            "\u001b[0;32m<ipython-input-19-dee9c3f09b9a>\u001b[0m in \u001b[0;36m<module>\u001b[0;34m()\u001b[0m\n\u001b[1;32m      2\u001b[0m \u001b[0mindexTensorList\u001b[0m \u001b[0;34m=\u001b[0m \u001b[0mtorch\u001b[0m\u001b[0;34m.\u001b[0m\u001b[0mLongTensor\u001b[0m\u001b[0;34m(\u001b[0m\u001b[0;34m(\u001b[0m\u001b[0;34m[\u001b[0m\u001b[0;36m1\u001b[0m\u001b[0;34m,\u001b[0m\u001b[0;36m2\u001b[0m\u001b[0;34m]\u001b[0m\u001b[0;34m,\u001b[0m \u001b[0;34m[\u001b[0m\u001b[0;36m0\u001b[0m\u001b[0;34m,\u001b[0m\u001b[0;36m2\u001b[0m\u001b[0;34m]\u001b[0m\u001b[0;34m,\u001b[0m \u001b[0;34m[\u001b[0m\u001b[0;36m1\u001b[0m\u001b[0;34m,\u001b[0m \u001b[0;36m3\u001b[0m\u001b[0;34m]\u001b[0m\u001b[0;34m)\u001b[0m\u001b[0;34m)\u001b[0m\u001b[0;34m\u001b[0m\u001b[0;34m\u001b[0m\u001b[0m\n\u001b[1;32m      3\u001b[0m \u001b[0mvalueTensor\u001b[0m \u001b[0;34m=\u001b[0m \u001b[0mtorch\u001b[0m\u001b[0;34m.\u001b[0m\u001b[0mFloatTensor\u001b[0m\u001b[0;34m(\u001b[0m\u001b[0;34m[\u001b[0m\u001b[0;36m17\u001b[0m\u001b[0;34m,\u001b[0m \u001b[0;36m18\u001b[0m\u001b[0;34m,\u001b[0m \u001b[0;36m19\u001b[0m\u001b[0;34m]\u001b[0m\u001b[0;34m)\u001b[0m\u001b[0;34m\u001b[0m\u001b[0;34m\u001b[0m\u001b[0m\n\u001b[0;32m----> 4\u001b[0;31m \u001b[0msparseTensor\u001b[0m \u001b[0;34m=\u001b[0m \u001b[0mtorch\u001b[0m\u001b[0;34m.\u001b[0m\u001b[0msparse\u001b[0m\u001b[0;34m.\u001b[0m\u001b[0mFloatTensor\u001b[0m\u001b[0;34m(\u001b[0m\u001b[0mindexTensorList\u001b[0m\u001b[0;34m.\u001b[0m\u001b[0mt\u001b[0m\u001b[0;34m(\u001b[0m\u001b[0;34m)\u001b[0m\u001b[0;34m,\u001b[0m \u001b[0mvalueTensor\u001b[0m\u001b[0;34m,\u001b[0m \u001b[0mtorch\u001b[0m\u001b[0;34m.\u001b[0m\u001b[0mSize\u001b[0m\u001b[0;34m(\u001b[0m\u001b[0;34m[\u001b[0m\u001b[0;36m3\u001b[0m\u001b[0;34m,\u001b[0m \u001b[0;36m3\u001b[0m\u001b[0;34m]\u001b[0m\u001b[0;34m)\u001b[0m\u001b[0;34m)\u001b[0m\u001b[0;34m.\u001b[0m\u001b[0mto_dense\u001b[0m\u001b[0;34m(\u001b[0m\u001b[0;34m)\u001b[0m\u001b[0;34m\u001b[0m\u001b[0;34m\u001b[0m\u001b[0m\n\u001b[0m\u001b[1;32m      5\u001b[0m \u001b[0mprint\u001b[0m\u001b[0;34m(\u001b[0m\u001b[0msparseTensor\u001b[0m\u001b[0;34m)\u001b[0m\u001b[0;34m\u001b[0m\u001b[0;34m\u001b[0m\u001b[0m\n",
            "\u001b[0;31mRuntimeError\u001b[0m: size is inconsistent with indices: for dim 1, size is 3 but found index 3"
          ]
        }
      ]
    },
    {
      "cell_type": "markdown",
      "metadata": {
        "id": "NxQRlcycknIX"
      },
      "source": [
        "If the size of the matrix is less than the index provided in the indexTensor, the sparse tensor cannot be created. Hence, we need to pass at least the required dimensions as per the index tensor."
      ]
    },
    {
      "cell_type": "markdown",
      "metadata": {
        "id": "GxWVE7Z6knIX"
      },
      "source": [
        "This function can be used whenever we need to create a spare matrix."
      ]
    },
    {
      "cell_type": "code",
      "metadata": {
        "id": "EP9AwLZ_knIX",
        "colab": {
          "base_uri": "https://localhost:8080/",
          "height": 137
        },
        "outputId": "54d5096c-f685-4e99-b0c4-1d18e2161059"
      },
      "source": [
        "jovian.commit(project='01-tensor-operations')"
      ],
      "execution_count": 20,
      "outputs": [
        {
          "output_type": "stream",
          "text": [
            "[jovian] Detected Colab notebook...\u001b[0m\n",
            "[jovian] Please enter your API key ( from https://jovian.ai/ ):\u001b[0m\n",
            "API KEY: ··········\n",
            "[jovian] Uploading colab notebook to Jovian...\u001b[0m\n",
            "[jovian] Capturing environment..\u001b[0m\n",
            "[jovian] Committed successfully! https://jovian.ai/ayushxx7/01-tensor-operations\u001b[0m\n"
          ],
          "name": "stdout"
        },
        {
          "output_type": "execute_result",
          "data": {
            "application/vnd.google.colaboratory.intrinsic+json": {
              "type": "string"
            },
            "text/plain": [
              "'https://jovian.ai/ayushxx7/01-tensor-operations'"
            ]
          },
          "metadata": {
            "tags": []
          },
          "execution_count": 20
        }
      ]
    },
    {
      "cell_type": "markdown",
      "metadata": {
        "id": "_H46RWFjknIX"
      },
      "source": [
        "## Function 3 - torch.randn\n",
        "\n",
        "Generating tensors filled with random values.\n",
        "The special thing about this inbuilt method is that it returns a tensor filled with random numbers from a normal distribution with **mean `0` and variance `1`**"
      ]
    },
    {
      "cell_type": "code",
      "metadata": {
        "id": "iAEz7AZIknIX",
        "colab": {
          "base_uri": "https://localhost:8080/"
        },
        "outputId": "44be6d58-d90e-4db7-bb96-a9df198961cf"
      },
      "source": [
        "# Example 1 - working\r\n",
        "torch.randn([2, 4])"
      ],
      "execution_count": 21,
      "outputs": [
        {
          "output_type": "execute_result",
          "data": {
            "text/plain": [
              "tensor([[ 0.4608, -0.3125, -1.4096,  1.0789],\n",
              "        [ 0.2133,  0.8766,  0.9562,  0.9583]])"
            ]
          },
          "metadata": {
            "tags": []
          },
          "execution_count": 21
        }
      ]
    },
    {
      "cell_type": "markdown",
      "metadata": {
        "id": "IuC0C2RGknIX"
      },
      "source": [
        "We generate a tensor filled with random values by passing in the size of the tensor to the `randn` function. If we don't pass any other parameters, the dtype will be `float`"
      ]
    },
    {
      "cell_type": "code",
      "metadata": {
        "id": "olnLZ4xyknIX",
        "colab": {
          "base_uri": "https://localhost:8080/"
        },
        "outputId": "e0048408-3353-434b-cab6-fb0aa0df9e2f"
      },
      "source": [
        "# Example 2 - working\r\n",
        "torch.randn(2, 4, dtype=torch.cfloat)"
      ],
      "execution_count": 3,
      "outputs": [
        {
          "output_type": "execute_result",
          "data": {
            "text/plain": [
              "tensor([[ 0.2894+0.1477j, -0.6792-0.4265j,  0.5663+0.5463j, -0.7426-0.3263j],\n",
              "        [-0.5197+1.5463j,  0.2238+0.1507j,  0.0636+1.0186j,  0.4138-0.7450j]])"
            ]
          },
          "metadata": {
            "tags": []
          },
          "execution_count": 3
        }
      ]
    },
    {
      "cell_type": "markdown",
      "metadata": {
        "id": "QXaL0edZknIX"
      },
      "source": [
        "To create a tensor with complex numbers we can call the the `randn` function, pass in the size, and the dtype as either `torch.cfloat` or `torch.cdouble`.\r\n",
        "One interesting thing to note is that we don't have to pass the dimensions as a list, because it accepts *size as a param."
      ]
    },
    {
      "cell_type": "code",
      "metadata": {
        "id": "8Sf6oXWkknIX",
        "colab": {
          "base_uri": "https://localhost:8080/",
          "height": 214
        },
        "outputId": "937a565b-90f0-4bbd-e0e2-8761662197ba"
      },
      "source": [
        "# Example 3 - breaking (to illustrate when it breaks)\r\n",
        "print(torch.rand(1, 0, 4))\r\n",
        "torch.randn(1, 2, dtype=torch.bool)"
      ],
      "execution_count": 12,
      "outputs": [
        {
          "output_type": "stream",
          "text": [
            "tensor([], size=(1, 0, 4))\n"
          ],
          "name": "stdout"
        },
        {
          "output_type": "error",
          "ename": "RuntimeError",
          "evalue": "ignored",
          "traceback": [
            "\u001b[0;31m---------------------------------------------------------------------------\u001b[0m",
            "\u001b[0;31mRuntimeError\u001b[0m                              Traceback (most recent call last)",
            "\u001b[0;32m<ipython-input-12-d4103658f748>\u001b[0m in \u001b[0;36m<module>\u001b[0;34m()\u001b[0m\n\u001b[1;32m      1\u001b[0m \u001b[0;31m# Example 3 - breaking (to illustrate when it breaks)\u001b[0m\u001b[0;34m\u001b[0m\u001b[0;34m\u001b[0m\u001b[0;34m\u001b[0m\u001b[0m\n\u001b[1;32m      2\u001b[0m \u001b[0mprint\u001b[0m\u001b[0;34m(\u001b[0m\u001b[0mtorch\u001b[0m\u001b[0;34m.\u001b[0m\u001b[0mrand\u001b[0m\u001b[0;34m(\u001b[0m\u001b[0;36m1\u001b[0m\u001b[0;34m,\u001b[0m \u001b[0;36m0\u001b[0m\u001b[0;34m,\u001b[0m \u001b[0;36m4\u001b[0m\u001b[0;34m)\u001b[0m\u001b[0;34m)\u001b[0m\u001b[0;34m\u001b[0m\u001b[0;34m\u001b[0m\u001b[0m\n\u001b[0;32m----> 3\u001b[0;31m \u001b[0mtorch\u001b[0m\u001b[0;34m.\u001b[0m\u001b[0mrandn\u001b[0m\u001b[0;34m(\u001b[0m\u001b[0;36m1\u001b[0m\u001b[0;34m,\u001b[0m \u001b[0;36m2\u001b[0m\u001b[0;34m,\u001b[0m \u001b[0mdtype\u001b[0m\u001b[0;34m=\u001b[0m\u001b[0mtorch\u001b[0m\u001b[0;34m.\u001b[0m\u001b[0mbool\u001b[0m\u001b[0;34m)\u001b[0m\u001b[0;34m\u001b[0m\u001b[0;34m\u001b[0m\u001b[0m\n\u001b[0m",
            "\u001b[0;31mRuntimeError\u001b[0m: \"normal_kernel_cpu\" not implemented for 'Bool'"
          ]
        }
      ]
    },
    {
      "cell_type": "markdown",
      "metadata": {
        "id": "PJKMXbQJknIX"
      },
      "source": [
        "Here, first we explore what happens we pass in 0 in the size list. The outcome is such that there are no random tensor. This is because one on the dimensions is 0, hence the tensor matrix cannot exist.\r\n",
        "Further, we have tried to pass in the datatype as boolean, and we find out that this cannot be used in the random generator."
      ]
    },
    {
      "cell_type": "markdown",
      "metadata": {
        "id": "_SSIjeYxknIX"
      },
      "source": [
        "Whenever there is a requirement to fill a tensor with random values, especially that follows mean 0 and variance 1 rule, we can use this function. It can be used during generation of testing dataset or otherwise for experimental purposes such as while learning about what methods tensors support."
      ]
    },
    {
      "cell_type": "code",
      "metadata": {
        "id": "7j9vrd9AknIX",
        "colab": {
          "base_uri": "https://localhost:8080/",
          "height": 137
        },
        "outputId": "4a7621b8-d963-47e3-a554-8918e6aadaba"
      },
      "source": [
        "jovian.commit(project='01-tensor-operations')"
      ],
      "execution_count": 13,
      "outputs": [
        {
          "output_type": "stream",
          "text": [
            "[jovian] Detected Colab notebook...\u001b[0m\n",
            "[jovian] Please enter your API key ( from https://jovian.ai/ ):\u001b[0m\n",
            "API KEY: ··········\n",
            "[jovian] Uploading colab notebook to Jovian...\u001b[0m\n",
            "[jovian] Capturing environment..\u001b[0m\n",
            "[jovian] Committed successfully! https://jovian.ai/ayushxx7/01-tensor-operations\u001b[0m\n"
          ],
          "name": "stdout"
        },
        {
          "output_type": "execute_result",
          "data": {
            "application/vnd.google.colaboratory.intrinsic+json": {
              "type": "string"
            },
            "text/plain": [
              "'https://jovian.ai/ayushxx7/01-tensor-operations'"
            ]
          },
          "metadata": {
            "tags": []
          },
          "execution_count": 13
        }
      ]
    },
    {
      "cell_type": "markdown",
      "metadata": {
        "id": "27EDRDUcknIY"
      },
      "source": [
        "# Function 4 = torch.sin\n",
        "\n",
        "Return the sine value tensor of the input tensor"
      ]
    },
    {
      "cell_type": "code",
      "metadata": {
        "colab": {
          "base_uri": "https://localhost:8080/"
        },
        "id": "BGE_n8Iadl-H",
        "outputId": "28c04b28-e304-48fa-c576-504d6a4c8c19"
      },
      "source": [
        "# Example 1 - working\r\n",
        "\r\n",
        "torch.sin(torch.randn(4))"
      ],
      "execution_count": 26,
      "outputs": [
        {
          "output_type": "execute_result",
          "data": {
            "text/plain": [
              "tensor([-0.7853,  0.1292,  0.2865, -0.4688])"
            ]
          },
          "metadata": {
            "tags": []
          },
          "execution_count": 26
        }
      ]
    },
    {
      "cell_type": "markdown",
      "metadata": {
        "id": "593b72dkd04u"
      },
      "source": [
        "To calculate the sine values of an input tensor, we can use the torch.sin method. Here to test out that functionality, we will generate the input using the above learned random tensor generator."
      ]
    },
    {
      "cell_type": "code",
      "metadata": {
        "id": "UHbHehhgknIY",
        "colab": {
          "base_uri": "https://localhost:8080/",
          "height": 282
        },
        "outputId": "7c1aef86-1633-4957-c6e1-2e17991152fb"
      },
      "source": [
        "# Example 2 - working\r\n",
        "\r\n",
        "import numpy as np\r\n",
        "import matplotlib.pylab as plt\r\n",
        "\r\n",
        "x = np.linspace(-np.pi, np.pi, 201)\r\n",
        "inpTensor = torch.FloatTensor(x)\r\n",
        "#print(inpTensor)\r\n",
        "sineTensor = torch.sin(inpTensor)\r\n",
        "#print(sineTensor)\r\n",
        "plt.plot(inpTensor, sineTensor)"
      ],
      "execution_count": 25,
      "outputs": [
        {
          "output_type": "execute_result",
          "data": {
            "text/plain": [
              "[<matplotlib.lines.Line2D at 0x7f527afb0d68>]"
            ]
          },
          "metadata": {
            "tags": []
          },
          "execution_count": 25
        },
        {
          "output_type": "display_data",
          "data": {
            "image/png": "[encoded data removed]",
            "text/plain": [
              "<Figure size 432x288 with 1 Axes>"
            ]
          },
          "metadata": {
            "tags": [],
            "needs_background": "light"
          }
        }
      ]
    },
    {
      "cell_type": "markdown",
      "metadata": {
        "id": "QwOS0DZZknIY"
      },
      "source": [
        "First we get the input list using numpy linspace method.\r\n",
        "Then we generate the tensor using tensor.FloatTensor\r\n",
        "Finally, we convert the tensor to corresponding sine tensor and plot the values"
      ]
    },
    {
      "cell_type": "code",
      "metadata": {
        "id": "9N1UWodJknIY",
        "colab": {
          "base_uri": "https://localhost:8080/",
          "height": 197
        },
        "outputId": "a9708ef9-aff2-44b6-c64c-0b5d3f6d64e7"
      },
      "source": [
        "# Example 3 - breaking (to illustrate when it breaks)\r\n",
        "import numpy as np\r\n",
        "torch.sin(np.pi/2)"
      ],
      "execution_count": 28,
      "outputs": [
        {
          "output_type": "error",
          "ename": "TypeError",
          "evalue": "ignored",
          "traceback": [
            "\u001b[0;31m---------------------------------------------------------------------------\u001b[0m",
            "\u001b[0;31mTypeError\u001b[0m                                 Traceback (most recent call last)",
            "\u001b[0;32m<ipython-input-28-d957fcb1971f>\u001b[0m in \u001b[0;36m<module>\u001b[0;34m()\u001b[0m\n\u001b[1;32m      1\u001b[0m \u001b[0;31m# Example 3 - breaking (to illustrate when it breaks)\u001b[0m\u001b[0;34m\u001b[0m\u001b[0;34m\u001b[0m\u001b[0;34m\u001b[0m\u001b[0m\n\u001b[1;32m      2\u001b[0m \u001b[0;32mimport\u001b[0m \u001b[0mnumpy\u001b[0m \u001b[0;32mas\u001b[0m \u001b[0mnp\u001b[0m\u001b[0;34m\u001b[0m\u001b[0;34m\u001b[0m\u001b[0m\n\u001b[0;32m----> 3\u001b[0;31m \u001b[0mtorch\u001b[0m\u001b[0;34m.\u001b[0m\u001b[0msin\u001b[0m\u001b[0;34m(\u001b[0m\u001b[0mnp\u001b[0m\u001b[0;34m.\u001b[0m\u001b[0mpi\u001b[0m\u001b[0;34m/\u001b[0m\u001b[0;36m2\u001b[0m\u001b[0;34m)\u001b[0m\u001b[0;34m\u001b[0m\u001b[0;34m\u001b[0m\u001b[0m\n\u001b[0m",
            "\u001b[0;31mTypeError\u001b[0m: sin(): argument 'input' (position 1) must be Tensor, not float"
          ]
        }
      ]
    },
    {
      "cell_type": "markdown",
      "metadata": {
        "id": "G6NajfZNknIY"
      },
      "source": [
        "The function is breaking because the input is expected to be a tensor, it will not automatically convert a list of values to tensors for us."
      ]
    },
    {
      "cell_type": "markdown",
      "metadata": {
        "id": "OIAILcxJknIY"
      },
      "source": [
        "Whenever we need to calcuate the corresponding sine values in form of tensor we can use this method. Sine values are especially useful in the field of Physics where we can map out patterns that match up to a sine curve."
      ]
    },
    {
      "cell_type": "code",
      "metadata": {
        "id": "RrENlMNLknIY",
        "colab": {
          "base_uri": "https://localhost:8080/",
          "height": 103
        },
        "outputId": "627682bb-0c76-4883-d261-c8e6aa74916b"
      },
      "source": [
        "jovian.commit(project='01-tensor-operations')"
      ],
      "execution_count": 29,
      "outputs": [
        {
          "output_type": "stream",
          "text": [
            "[jovian] Detected Colab notebook...\u001b[0m\n",
            "[jovian] Uploading colab notebook to Jovian...\u001b[0m\n",
            "[jovian] Capturing environment..\u001b[0m\n",
            "[jovian] Committed successfully! https://jovian.ai/ayushxx7/01-tensor-operations\u001b[0m\n"
          ],
          "name": "stdout"
        },
        {
          "output_type": "execute_result",
          "data": {
            "application/vnd.google.colaboratory.intrinsic+json": {
              "type": "string"
            },
            "text/plain": [
              "'https://jovian.ai/ayushxx7/01-tensor-operations'"
            ]
          },
          "metadata": {
            "tags": []
          },
          "execution_count": 29
        }
      ]
    },
    {
      "cell_type": "markdown",
      "metadata": {
        "id": "AEiQlBcOknIY"
      },
      "source": [
        "## Function 5 - ???\n",
        "\n",
        "Add some explanations"
      ]
    },
    {
      "cell_type": "code",
      "metadata": {
        "id": "EN_OlVPDknIY"
      },
      "source": [
        "# Example 1 - working"
      ],
      "execution_count": null,
      "outputs": []
    },
    {
      "cell_type": "markdown",
      "metadata": {
        "id": "O4tOk06jknIY"
      },
      "source": [
        "Explanation about example"
      ]
    },
    {
      "cell_type": "code",
      "metadata": {
        "id": "erwC2jzjknIY"
      },
      "source": [
        "# Example 2 - working"
      ],
      "execution_count": null,
      "outputs": []
    },
    {
      "cell_type": "markdown",
      "metadata": {
        "id": "8i2AWCtXknIY"
      },
      "source": [
        "Explanation about example"
      ]
    },
    {
      "cell_type": "code",
      "metadata": {
        "id": "XGIcOpIHknIY"
      },
      "source": [
        "# Example 3 - breaking (to illustrate when it breaks)"
      ],
      "execution_count": null,
      "outputs": []
    },
    {
      "cell_type": "markdown",
      "metadata": {
        "id": "nZnBWsI_knIY"
      },
      "source": [
        "Explanation about example"
      ]
    },
    {
      "cell_type": "markdown",
      "metadata": {
        "id": "EfREC0tAknIY"
      },
      "source": [
        "Closing comments about when to use this function"
      ]
    },
    {
      "cell_type": "code",
      "metadata": {
        "id": "HitTPPWdknIY",
        "outputId": "8080abc4-27fd-4041-9d0f-e171a1312bb3"
      },
      "source": [
        "jovian.commit(project='01-tensor-operations')"
      ],
      "execution_count": null,
      "outputs": [
        {
          "output_type": "display_data",
          "data": {
            "application/javascript": [
              "window.require && require([\"base/js/namespace\"],function(Jupyter){Jupyter.notebook.save_checkpoint()})"
            ],
            "text/plain": [
              "<IPython.core.display.Javascript object>"
            ]
          },
          "metadata": {
            "tags": []
          }
        },
        {
          "output_type": "stream",
          "text": [
            "[jovian] Attempting to save notebook..\u001b[0m\n",
            "[jovian] Updating notebook \"aakashns/01-tensor-operations\" on https://jovian.ai/\u001b[0m\n",
            "[jovian] Uploading notebook..\u001b[0m\n",
            "[jovian] Capturing environment..\u001b[0m\n",
            "[jovian] Committed successfully! https://jovian.ai/aakashns/01-tensor-operations\u001b[0m\n"
          ],
          "name": "stdout"
        },
        {
          "output_type": "execute_result",
          "data": {
            "text/plain": [
              "'https://jovian.ai/aakashns/01-tensor-operations'"
            ]
          },
          "metadata": {
            "tags": []
          },
          "execution_count": 19
        }
      ]
    },
    {
      "cell_type": "markdown",
      "metadata": {
        "id": "0welhABoknIY"
      },
      "source": [
        "## Conclusion\n",
        "\n",
        "Summarize what was covered in this notebook, and where to go next"
      ]
    },
    {
      "cell_type": "markdown",
      "metadata": {
        "id": "QbpcESSVknIY"
      },
      "source": [
        "## Reference Links\n",
        "Provide links to your references and other interesting articles about tensors\n",
        "* Official documentation for tensor operations: https://pytorch.org/docs/stable/torch.html\n",
        "* ..."
      ]
    },
    {
      "cell_type": "code",
      "metadata": {
        "id": "ioguqmhqknIY",
        "outputId": "258beea6-d5a1-44f5-f950-776093c74b3d"
      },
      "source": [
        "jovian.commit(project='01-tensor-operations')"
      ],
      "execution_count": null,
      "outputs": [
        {
          "output_type": "display_data",
          "data": {
            "application/javascript": [
              "window.require && require([\"base/js/namespace\"],function(Jupyter){Jupyter.notebook.save_checkpoint()})"
            ],
            "text/plain": [
              "<IPython.core.display.Javascript object>"
            ]
          },
          "metadata": {
            "tags": []
          }
        },
        {
          "output_type": "stream",
          "text": [
            "[jovian] Attempting to save notebook..\u001b[0m\n"
          ],
          "name": "stdout"
        }
      ]
    },
    {
      "cell_type": "code",
      "metadata": {
        "id": "cwzmx0QvknIY"
      },
      "source": [
        ""
      ],
      "execution_count": null,
      "outputs": []
    }
  ]
}